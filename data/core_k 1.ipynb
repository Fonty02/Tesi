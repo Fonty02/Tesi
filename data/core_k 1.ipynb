{
 "cells": [
  {
   "cell_type": "code",
   "execution_count": 1,
   "metadata": {},
   "outputs": [],
   "source": [
    "import pandas as pd\n",
    "import os"
   ]
  },
  {
   "cell_type": "code",
   "execution_count": 2,
   "metadata": {},
   "outputs": [],
   "source": [
    "interactions = pd.read_csv('movielens_1m/movielens_1m.inter', sep='\\t')\n",
    "\n",
    "# user_id:token\t\n",
    "# item_id:token\t\n",
    "# timestamp:float\t\n",
    "# num_repeat:float"
   ]
  },
  {
   "cell_type": "code",
   "execution_count": 9,
   "metadata": {},
   "outputs": [
    {
     "name": "stdout",
     "output_type": "stream",
     "text": [
      "\n",
      "users:6040\n",
      "items:3706\n",
      "inters:1000209\n",
      "sparsity:0.9553163743776871\n",
      "rat/user:165.5975165562914\n",
      "rat_item:269.88909875876953\n",
      "Users: 6040\n",
      "Items: 3706\n"
     ]
    }
   ],
   "source": [
    "users = set(interactions['user_id:token'])\n",
    "items = set(interactions['item_id:token'])\n",
    "\n",
    "res_users = len(users)\n",
    "res_items = len(items)\n",
    "n_inters = len(interactions)\n",
    "sparsity = 1 - (n_inters / (res_users * res_items))\n",
    "rat_user = n_inters / res_users\n",
    "rat_item = n_inters / res_items\n",
    "\n",
    "print(f\"\\nusers:{res_users}\\nitems:{res_items}\")\n",
    "print(f\"inters:{n_inters}\\nsparsity:{sparsity}\")\n",
    "print(f\"rat/user:{rat_user}\\nrat_item:{rat_item}\")\n",
    "\n",
    "print('Users:', len(users))\n",
    "print('Items:', len(items))"
   ]
  },
  {
   "cell_type": "code",
   "execution_count": 4,
   "metadata": {},
   "outputs": [],
   "source": [
    "def stats_core(interactions, k=5):\n",
    "\n",
    "    user_counts = interactions['user_id:token'].value_counts()\n",
    "    item_counts = interactions['item_id:token'].value_counts()\n",
    "\n",
    "    # Filter out users and items that appear less than 5 times\n",
    "    user_k = user_counts[user_counts >= 5].index\n",
    "    item_k = item_counts[item_counts >= 5].index\n",
    "\n",
    "    # Filter the DataFrame based on valid users and items\n",
    "    interactions_k = interactions[(interactions['user_id:token'].isin(user_k)) & (interactions['item_id:token'].isin(item_k))]\n",
    "\n",
    "    users = set(interactions_k['user_id:token'])\n",
    "    items = set(interactions_k['item_id:token'])\n",
    "\n",
    "    res_users = len(users)\n",
    "    res_items = len(items)\n",
    "    n_inters = len(interactions_k)\n",
    "    sparsity = 1 - (n_inters / (res_users * res_items))\n",
    "    rat_user = n_inters / res_users\n",
    "    rat_item = n_inters / res_items\n",
    "\n",
    "    print(f\"\\nusers:{res_users}\\nitems:{res_items}\")\n",
    "    print(f\"inters:{n_inters}\\nsparsity:{sparsity}\")\n",
    "    print(f\"rat/user:{rat_user}\\nrat_item:{rat_item}\")\n",
    "\n",
    "    print('Users:', len(users))\n",
    "    print('Items:', len(items))\n",
    "    return interactions_k\n",
    "\n",
    "\n"
   ]
  },
  {
   "cell_type": "code",
   "execution_count": 10,
   "metadata": {},
   "outputs": [
    {
     "name": "stdout",
     "output_type": "stream",
     "text": [
      "\n",
      "users:69878\n",
      "items:10196\n",
      "inters:9998816\n",
      "sparsity:0.9859661030476576\n",
      "rat/user:143.0896133260826\n",
      "rat_item:980.6606512357787\n",
      "Users: 69878\n",
      "Items: 10196\n"
     ]
    }
   ],
   "source": [
    "interactions_k = stats_core(interactions=interactions, k=5)\n",
    "\n"
   ]
  },
  {
   "cell_type": "code",
   "execution_count": 11,
   "metadata": {},
   "outputs": [],
   "source": [
    "interactions_k_filterd = interactions_k.drop(columns=['timestamp:float'])"
   ]
  },
  {
   "cell_type": "code",
   "execution_count": 5,
   "metadata": {},
   "outputs": [
    {
     "ename": "NameError",
     "evalue": "name 'interactions_k_filterd' is not defined",
     "output_type": "error",
     "traceback": [
      "\u001b[0;31m---------------------------------------------------------------------------\u001b[0m",
      "\u001b[0;31mNameError\u001b[0m                                 Traceback (most recent call last)",
      "Cell \u001b[0;32mIn[5], line 1\u001b[0m\n\u001b[0;32m----> 1\u001b[0m \u001b[43minteractions_k_filterd\u001b[49m\u001b[38;5;241m.\u001b[39mto_csv(\u001b[38;5;124m'\u001b[39m\u001b[38;5;124mml-10m_core5/ml-10m_core5.inter\u001b[39m\u001b[38;5;124m'\u001b[39m, sep\u001b[38;5;241m=\u001b[39m\u001b[38;5;124m'\u001b[39m\u001b[38;5;130;01m\\t\u001b[39;00m\u001b[38;5;124m'\u001b[39m, index\u001b[38;5;241m=\u001b[39m\u001b[38;5;28;01mFalse\u001b[39;00m)\n",
      "\u001b[0;31mNameError\u001b[0m: name 'interactions_k_filterd' is not defined"
     ]
    }
   ],
   "source": [
    "interactions_k_filterd.to_csv('ml-10m_core5/ml-10m_core5.inter', sep='\\t', index=False)"
   ]
  },
  {
   "cell_type": "code",
   "execution_count": 3,
   "metadata": {},
   "outputs": [],
   "source": [
    "import random\n",
    "\n",
    "def sample_users(interactions=None, n_users=5000, seed=42):\n",
    "\n",
    "    users = list(set(interactions['user_id:token']))\n",
    "\n",
    "    random.seed(seed)\n",
    "    random_users = random.sample(users, n_users)\n",
    "\n",
    "    filtered_interactions = interactions[interactions['user_id:token'].isin(random_users)]\n",
    "    \n",
    "    res_users = len(set(filtered_interactions['user_id:token']))\n",
    "    res_items = len(set(filtered_interactions['item_id:token']))\n",
    "    n_inters = len(filtered_interactions)\n",
    "    sparsity = 1 - (n_inters / (res_users * res_items))\n",
    "    rat_user = n_inters / res_users\n",
    "    rat_item = n_inters / res_items\n",
    "\n",
    "    print(f\"\\nusers:{res_users}\\nitems:{res_items}\")\n",
    "    print(f\"inters:{n_inters}\\nsparsity:{sparsity}\")\n",
    "    print(f\"rat/user:{rat_user}\\nrat_item:{rat_item}\")\n",
    "\n",
    "    return filtered_interactions\n",
    "\n",
    "\n",
    "def sample_users_items(interactions=None, n_users=5000, n_items=5000, seed=42):\n",
    "\n",
    "    users = list(set(interactions['user_id:token']))\n",
    "    items = list(set(interactions['item_id:token']))\n",
    "\n",
    "    random.seed(seed)\n",
    "    random_users = random.sample(users, n_users)\n",
    "    random_items = random.sample(items, n_items)\n",
    "\n",
    "    filtered_interactions = interactions[interactions['user_id:token'].isin(random_users) & interactions['item_id:token'].isin(random_items)]\n",
    "\n",
    "    res_users = len(set(filtered_interactions['user_id:token']))\n",
    "    res_items = len(set(filtered_interactions['item_id:token']))\n",
    "    n_inters = len(filtered_interactions)\n",
    "    sparsity = 1 - (n_inters / (res_users * res_items))\n",
    "    rat_user = n_inters / res_users\n",
    "    rat_item = n_inters / res_items\n",
    "\n",
    "    print(f\"\\nusers:{res_users}\\nitems:{res_items}\")\n",
    "    print(f\"inters:{n_inters}\\nsparsity:{sparsity}\")\n",
    "    print(f\"rat/user:{rat_user}\\nrat_item:{rat_item}\")\n",
    "    filtered_interactions.to_csv('ml-10m_40U10I/ml-10m_40U10I.inter', sep='\\t', index=False)\n",
    "    #return filtered_interactions\n",
    "\n"
   ]
  },
  {
   "cell_type": "code",
   "execution_count": 9,
   "metadata": {},
   "outputs": [
    {
     "ename": "ValueError",
     "evalue": "Sample larger than population or is negative",
     "output_type": "error",
     "traceback": [
      "\u001b[0;31m---------------------------------------------------------------------------\u001b[0m",
      "\u001b[0;31mValueError\u001b[0m                                Traceback (most recent call last)",
      "Cell \u001b[0;32mIn[9], line 6\u001b[0m\n\u001b[1;32m      1\u001b[0m \u001b[38;5;66;03m#sample_users(interactions=interactions_k_filterd, n_users=5000, seed=42)\u001b[39;00m\n\u001b[1;32m      2\u001b[0m \u001b[38;5;66;03m#sample_users_items(interactions=interactions_k_filterd, n_users=15000, n_items=15000, seed=42)\u001b[39;00m\n\u001b[1;32m      3\u001b[0m \u001b[38;5;66;03m#sample_users_items(interactions=interactions_k_filterd, n_users=20000, n_items=30000, seed=42)\u001b[39;00m\n\u001b[1;32m      4\u001b[0m \u001b[38;5;66;03m#sample_users_items(interactions=interactions_k_filterd, n_users=20000, n_items=40000, seed=42)\u001b[39;00m\n\u001b[1;32m      5\u001b[0m interactions_k_filterd \u001b[38;5;241m=\u001b[39m pd\u001b[38;5;241m.\u001b[39mread_csv(\u001b[38;5;124m'\u001b[39m\u001b[38;5;124mLFM-1b_artist_20U50I/LFM-1b_artist_20U50I.inter\u001b[39m\u001b[38;5;124m'\u001b[39m, sep\u001b[38;5;241m=\u001b[39m\u001b[38;5;124m'\u001b[39m\u001b[38;5;130;01m\\t\u001b[39;00m\u001b[38;5;124m'\u001b[39m)\n\u001b[0;32m----> 6\u001b[0m \u001b[43msample_users_items\u001b[49m\u001b[43m(\u001b[49m\u001b[43minteractions\u001b[49m\u001b[38;5;241;43m=\u001b[39;49m\u001b[43minteractions_k_filterd\u001b[49m\u001b[43m,\u001b[49m\u001b[43m \u001b[49m\u001b[43mn_users\u001b[49m\u001b[38;5;241;43m=\u001b[39;49m\u001b[38;5;241;43m40000\u001b[39;49m\u001b[43m,\u001b[49m\u001b[43m \u001b[49m\u001b[43mn_items\u001b[49m\u001b[38;5;241;43m=\u001b[39;49m\u001b[38;5;241;43m10000\u001b[39;49m\u001b[43m,\u001b[49m\u001b[43m \u001b[49m\u001b[43mseed\u001b[49m\u001b[38;5;241;43m=\u001b[39;49m\u001b[38;5;241;43m42\u001b[39;49m\u001b[43m)\u001b[49m\n\u001b[1;32m      7\u001b[0m \u001b[38;5;28mprint\u001b[39m(\u001b[38;5;124m\"\u001b[39m\u001b[38;5;124mDone\u001b[39m\u001b[38;5;124m\"\u001b[39m)\n",
      "Cell \u001b[0;32mIn[3], line 32\u001b[0m, in \u001b[0;36msample_users_items\u001b[0;34m(interactions, n_users, n_items, seed)\u001b[0m\n\u001b[1;32m     29\u001b[0m items \u001b[38;5;241m=\u001b[39m \u001b[38;5;28mlist\u001b[39m(\u001b[38;5;28mset\u001b[39m(interactions[\u001b[38;5;124m'\u001b[39m\u001b[38;5;124mitem_id:token\u001b[39m\u001b[38;5;124m'\u001b[39m]))\n\u001b[1;32m     31\u001b[0m random\u001b[38;5;241m.\u001b[39mseed(seed)\n\u001b[0;32m---> 32\u001b[0m random_users \u001b[38;5;241m=\u001b[39m \u001b[43mrandom\u001b[49m\u001b[38;5;241;43m.\u001b[39;49m\u001b[43msample\u001b[49m\u001b[43m(\u001b[49m\u001b[43musers\u001b[49m\u001b[43m,\u001b[49m\u001b[43m \u001b[49m\u001b[43mn_users\u001b[49m\u001b[43m)\u001b[49m\n\u001b[1;32m     33\u001b[0m random_items \u001b[38;5;241m=\u001b[39m random\u001b[38;5;241m.\u001b[39msample(items, n_items)\n\u001b[1;32m     35\u001b[0m filtered_interactions \u001b[38;5;241m=\u001b[39m interactions[interactions[\u001b[38;5;124m'\u001b[39m\u001b[38;5;124muser_id:token\u001b[39m\u001b[38;5;124m'\u001b[39m]\u001b[38;5;241m.\u001b[39misin(random_users) \u001b[38;5;241m&\u001b[39m interactions[\u001b[38;5;124m'\u001b[39m\u001b[38;5;124mitem_id:token\u001b[39m\u001b[38;5;124m'\u001b[39m]\u001b[38;5;241m.\u001b[39misin(random_items)]\n",
      "File \u001b[0;32m/usr/lib/python3.8/random.py:363\u001b[0m, in \u001b[0;36mRandom.sample\u001b[0;34m(self, population, k)\u001b[0m\n\u001b[1;32m    361\u001b[0m n \u001b[38;5;241m=\u001b[39m \u001b[38;5;28mlen\u001b[39m(population)\n\u001b[1;32m    362\u001b[0m \u001b[38;5;28;01mif\u001b[39;00m \u001b[38;5;129;01mnot\u001b[39;00m \u001b[38;5;241m0\u001b[39m \u001b[38;5;241m<\u001b[39m\u001b[38;5;241m=\u001b[39m k \u001b[38;5;241m<\u001b[39m\u001b[38;5;241m=\u001b[39m n:\n\u001b[0;32m--> 363\u001b[0m     \u001b[38;5;28;01mraise\u001b[39;00m \u001b[38;5;167;01mValueError\u001b[39;00m(\u001b[38;5;124m\"\u001b[39m\u001b[38;5;124mSample larger than population or is negative\u001b[39m\u001b[38;5;124m\"\u001b[39m)\n\u001b[1;32m    364\u001b[0m result \u001b[38;5;241m=\u001b[39m [\u001b[38;5;28;01mNone\u001b[39;00m] \u001b[38;5;241m*\u001b[39m k\n\u001b[1;32m    365\u001b[0m setsize \u001b[38;5;241m=\u001b[39m \u001b[38;5;241m21\u001b[39m        \u001b[38;5;66;03m# size of a small set minus size of an empty list\u001b[39;00m\n",
      "\u001b[0;31mValueError\u001b[0m: Sample larger than population or is negative"
     ]
    }
   ],
   "source": [
    "#sample_users(interactions=interactions_k_filterd, n_users=5000, seed=42)\n",
    "#sample_users_items(interactions=interactions_k_filterd, n_users=15000, n_items=15000, seed=42)\n",
    "#sample_users_items(interactions=interactions_k_filterd, n_users=20000, n_items=30000, seed=42)\n",
    "#sample_users_items(interactions=interactions_k_filterd, n_users=20000, n_items=40000, seed=42)\n",
    "interactions_k_filterd = pd.read_csv('LFM-1b_artist_20U50I/LFM-1b_artist_20U50I.inter', sep='\\t')\n",
    "sample_users_items(interactions=interactions_k_filterd, n_users=40000, n_items=10000, seed=42)\n",
    "print(\"Done\")"
   ]
  },
  {
   "cell_type": "code",
   "execution_count": 5,
   "metadata": {},
   "outputs": [
    {
     "ename": "FileNotFoundError",
     "evalue": "[Errno 2] No such file or directory: 'ml-10m_40U10I/ml-10m_40U10I.inter'",
     "output_type": "error",
     "traceback": [
      "\u001b[0;31m---------------------------------------------------------------------------\u001b[0m",
      "\u001b[0;31mFileNotFoundError\u001b[0m                         Traceback (most recent call last)",
      "Cell \u001b[0;32mIn[5], line 6\u001b[0m\n\u001b[1;32m      1\u001b[0m \u001b[38;5;66;03m# Dal file di inter prendere item presenti, recuperare il nome delle entità corrispondenti dal file .link. Poi andare nel file .kg e filtrare solo le righe che presentano le entità recuperate in precedenza. Salvare il file filtrato con un nome significativo.\u001b[39;00m\n\u001b[1;32m      2\u001b[0m \n\u001b[1;32m      3\u001b[0m \u001b[38;5;66;03m#FILTRARE IN BASE ALLA PRIMA COLONNA\u001b[39;00m\n\u001b[1;32m      4\u001b[0m \u001b[38;5;66;03m#FORSE ANCHE IN BASE ALLA TERZA COLONNA\u001b[39;00m\n\u001b[0;32m----> 6\u001b[0m interactions \u001b[38;5;241m=\u001b[39m \u001b[43mpd\u001b[49m\u001b[38;5;241;43m.\u001b[39;49m\u001b[43mread_csv\u001b[49m\u001b[43m(\u001b[49m\u001b[38;5;124;43m'\u001b[39;49m\u001b[38;5;124;43mml-10m_40U10I/ml-10m_40U10I.inter\u001b[39;49m\u001b[38;5;124;43m'\u001b[39;49m\u001b[43m,\u001b[49m\u001b[43m \u001b[49m\u001b[43msep\u001b[49m\u001b[38;5;241;43m=\u001b[39;49m\u001b[38;5;124;43m'\u001b[39;49m\u001b[38;5;130;43;01m\\t\u001b[39;49;00m\u001b[38;5;124;43m'\u001b[39;49m\u001b[43m)\u001b[49m\n\u001b[1;32m      7\u001b[0m links\u001b[38;5;241m=\u001b[39mpd\u001b[38;5;241m.\u001b[39mread_csv(\u001b[38;5;124m'\u001b[39m\u001b[38;5;124mml-10m_40U10I/ml-10m_40U10I.link\u001b[39m\u001b[38;5;124m'\u001b[39m, sep\u001b[38;5;241m=\u001b[39m\u001b[38;5;124m'\u001b[39m\u001b[38;5;130;01m\\t\u001b[39;00m\u001b[38;5;124m'\u001b[39m)\n\u001b[1;32m      9\u001b[0m \u001b[38;5;66;03m#from links save only rows where item_id:token is in interactions\u001b[39;00m\n",
      "File \u001b[0;32m~/Tesi/recsost_env/lib/python3.8/site-packages/pandas/io/parsers/readers.py:912\u001b[0m, in \u001b[0;36mread_csv\u001b[0;34m(filepath_or_buffer, sep, delimiter, header, names, index_col, usecols, dtype, engine, converters, true_values, false_values, skipinitialspace, skiprows, skipfooter, nrows, na_values, keep_default_na, na_filter, verbose, skip_blank_lines, parse_dates, infer_datetime_format, keep_date_col, date_parser, date_format, dayfirst, cache_dates, iterator, chunksize, compression, thousands, decimal, lineterminator, quotechar, quoting, doublequote, escapechar, comment, encoding, encoding_errors, dialect, on_bad_lines, delim_whitespace, low_memory, memory_map, float_precision, storage_options, dtype_backend)\u001b[0m\n\u001b[1;32m    899\u001b[0m kwds_defaults \u001b[38;5;241m=\u001b[39m _refine_defaults_read(\n\u001b[1;32m    900\u001b[0m     dialect,\n\u001b[1;32m    901\u001b[0m     delimiter,\n\u001b[0;32m   (...)\u001b[0m\n\u001b[1;32m    908\u001b[0m     dtype_backend\u001b[38;5;241m=\u001b[39mdtype_backend,\n\u001b[1;32m    909\u001b[0m )\n\u001b[1;32m    910\u001b[0m kwds\u001b[38;5;241m.\u001b[39mupdate(kwds_defaults)\n\u001b[0;32m--> 912\u001b[0m \u001b[38;5;28;01mreturn\u001b[39;00m \u001b[43m_read\u001b[49m\u001b[43m(\u001b[49m\u001b[43mfilepath_or_buffer\u001b[49m\u001b[43m,\u001b[49m\u001b[43m \u001b[49m\u001b[43mkwds\u001b[49m\u001b[43m)\u001b[49m\n",
      "File \u001b[0;32m~/Tesi/recsost_env/lib/python3.8/site-packages/pandas/io/parsers/readers.py:577\u001b[0m, in \u001b[0;36m_read\u001b[0;34m(filepath_or_buffer, kwds)\u001b[0m\n\u001b[1;32m    574\u001b[0m _validate_names(kwds\u001b[38;5;241m.\u001b[39mget(\u001b[38;5;124m\"\u001b[39m\u001b[38;5;124mnames\u001b[39m\u001b[38;5;124m\"\u001b[39m, \u001b[38;5;28;01mNone\u001b[39;00m))\n\u001b[1;32m    576\u001b[0m \u001b[38;5;66;03m# Create the parser.\u001b[39;00m\n\u001b[0;32m--> 577\u001b[0m parser \u001b[38;5;241m=\u001b[39m \u001b[43mTextFileReader\u001b[49m\u001b[43m(\u001b[49m\u001b[43mfilepath_or_buffer\u001b[49m\u001b[43m,\u001b[49m\u001b[43m \u001b[49m\u001b[38;5;241;43m*\u001b[39;49m\u001b[38;5;241;43m*\u001b[39;49m\u001b[43mkwds\u001b[49m\u001b[43m)\u001b[49m\n\u001b[1;32m    579\u001b[0m \u001b[38;5;28;01mif\u001b[39;00m chunksize \u001b[38;5;129;01mor\u001b[39;00m iterator:\n\u001b[1;32m    580\u001b[0m     \u001b[38;5;28;01mreturn\u001b[39;00m parser\n",
      "File \u001b[0;32m~/Tesi/recsost_env/lib/python3.8/site-packages/pandas/io/parsers/readers.py:1407\u001b[0m, in \u001b[0;36mTextFileReader.__init__\u001b[0;34m(self, f, engine, **kwds)\u001b[0m\n\u001b[1;32m   1404\u001b[0m     \u001b[38;5;28mself\u001b[39m\u001b[38;5;241m.\u001b[39moptions[\u001b[38;5;124m\"\u001b[39m\u001b[38;5;124mhas_index_names\u001b[39m\u001b[38;5;124m\"\u001b[39m] \u001b[38;5;241m=\u001b[39m kwds[\u001b[38;5;124m\"\u001b[39m\u001b[38;5;124mhas_index_names\u001b[39m\u001b[38;5;124m\"\u001b[39m]\n\u001b[1;32m   1406\u001b[0m \u001b[38;5;28mself\u001b[39m\u001b[38;5;241m.\u001b[39mhandles: IOHandles \u001b[38;5;241m|\u001b[39m \u001b[38;5;28;01mNone\u001b[39;00m \u001b[38;5;241m=\u001b[39m \u001b[38;5;28;01mNone\u001b[39;00m\n\u001b[0;32m-> 1407\u001b[0m \u001b[38;5;28mself\u001b[39m\u001b[38;5;241m.\u001b[39m_engine \u001b[38;5;241m=\u001b[39m \u001b[38;5;28;43mself\u001b[39;49m\u001b[38;5;241;43m.\u001b[39;49m\u001b[43m_make_engine\u001b[49m\u001b[43m(\u001b[49m\u001b[43mf\u001b[49m\u001b[43m,\u001b[49m\u001b[43m \u001b[49m\u001b[38;5;28;43mself\u001b[39;49m\u001b[38;5;241;43m.\u001b[39;49m\u001b[43mengine\u001b[49m\u001b[43m)\u001b[49m\n",
      "File \u001b[0;32m~/Tesi/recsost_env/lib/python3.8/site-packages/pandas/io/parsers/readers.py:1661\u001b[0m, in \u001b[0;36mTextFileReader._make_engine\u001b[0;34m(self, f, engine)\u001b[0m\n\u001b[1;32m   1659\u001b[0m     \u001b[38;5;28;01mif\u001b[39;00m \u001b[38;5;124m\"\u001b[39m\u001b[38;5;124mb\u001b[39m\u001b[38;5;124m\"\u001b[39m \u001b[38;5;129;01mnot\u001b[39;00m \u001b[38;5;129;01min\u001b[39;00m mode:\n\u001b[1;32m   1660\u001b[0m         mode \u001b[38;5;241m+\u001b[39m\u001b[38;5;241m=\u001b[39m \u001b[38;5;124m\"\u001b[39m\u001b[38;5;124mb\u001b[39m\u001b[38;5;124m\"\u001b[39m\n\u001b[0;32m-> 1661\u001b[0m \u001b[38;5;28mself\u001b[39m\u001b[38;5;241m.\u001b[39mhandles \u001b[38;5;241m=\u001b[39m \u001b[43mget_handle\u001b[49m\u001b[43m(\u001b[49m\n\u001b[1;32m   1662\u001b[0m \u001b[43m    \u001b[49m\u001b[43mf\u001b[49m\u001b[43m,\u001b[49m\n\u001b[1;32m   1663\u001b[0m \u001b[43m    \u001b[49m\u001b[43mmode\u001b[49m\u001b[43m,\u001b[49m\n\u001b[1;32m   1664\u001b[0m \u001b[43m    \u001b[49m\u001b[43mencoding\u001b[49m\u001b[38;5;241;43m=\u001b[39;49m\u001b[38;5;28;43mself\u001b[39;49m\u001b[38;5;241;43m.\u001b[39;49m\u001b[43moptions\u001b[49m\u001b[38;5;241;43m.\u001b[39;49m\u001b[43mget\u001b[49m\u001b[43m(\u001b[49m\u001b[38;5;124;43m\"\u001b[39;49m\u001b[38;5;124;43mencoding\u001b[39;49m\u001b[38;5;124;43m\"\u001b[39;49m\u001b[43m,\u001b[49m\u001b[43m \u001b[49m\u001b[38;5;28;43;01mNone\u001b[39;49;00m\u001b[43m)\u001b[49m\u001b[43m,\u001b[49m\n\u001b[1;32m   1665\u001b[0m \u001b[43m    \u001b[49m\u001b[43mcompression\u001b[49m\u001b[38;5;241;43m=\u001b[39;49m\u001b[38;5;28;43mself\u001b[39;49m\u001b[38;5;241;43m.\u001b[39;49m\u001b[43moptions\u001b[49m\u001b[38;5;241;43m.\u001b[39;49m\u001b[43mget\u001b[49m\u001b[43m(\u001b[49m\u001b[38;5;124;43m\"\u001b[39;49m\u001b[38;5;124;43mcompression\u001b[39;49m\u001b[38;5;124;43m\"\u001b[39;49m\u001b[43m,\u001b[49m\u001b[43m \u001b[49m\u001b[38;5;28;43;01mNone\u001b[39;49;00m\u001b[43m)\u001b[49m\u001b[43m,\u001b[49m\n\u001b[1;32m   1666\u001b[0m \u001b[43m    \u001b[49m\u001b[43mmemory_map\u001b[49m\u001b[38;5;241;43m=\u001b[39;49m\u001b[38;5;28;43mself\u001b[39;49m\u001b[38;5;241;43m.\u001b[39;49m\u001b[43moptions\u001b[49m\u001b[38;5;241;43m.\u001b[39;49m\u001b[43mget\u001b[49m\u001b[43m(\u001b[49m\u001b[38;5;124;43m\"\u001b[39;49m\u001b[38;5;124;43mmemory_map\u001b[39;49m\u001b[38;5;124;43m\"\u001b[39;49m\u001b[43m,\u001b[49m\u001b[43m \u001b[49m\u001b[38;5;28;43;01mFalse\u001b[39;49;00m\u001b[43m)\u001b[49m\u001b[43m,\u001b[49m\n\u001b[1;32m   1667\u001b[0m \u001b[43m    \u001b[49m\u001b[43mis_text\u001b[49m\u001b[38;5;241;43m=\u001b[39;49m\u001b[43mis_text\u001b[49m\u001b[43m,\u001b[49m\n\u001b[1;32m   1668\u001b[0m \u001b[43m    \u001b[49m\u001b[43merrors\u001b[49m\u001b[38;5;241;43m=\u001b[39;49m\u001b[38;5;28;43mself\u001b[39;49m\u001b[38;5;241;43m.\u001b[39;49m\u001b[43moptions\u001b[49m\u001b[38;5;241;43m.\u001b[39;49m\u001b[43mget\u001b[49m\u001b[43m(\u001b[49m\u001b[38;5;124;43m\"\u001b[39;49m\u001b[38;5;124;43mencoding_errors\u001b[39;49m\u001b[38;5;124;43m\"\u001b[39;49m\u001b[43m,\u001b[49m\u001b[43m \u001b[49m\u001b[38;5;124;43m\"\u001b[39;49m\u001b[38;5;124;43mstrict\u001b[39;49m\u001b[38;5;124;43m\"\u001b[39;49m\u001b[43m)\u001b[49m\u001b[43m,\u001b[49m\n\u001b[1;32m   1669\u001b[0m \u001b[43m    \u001b[49m\u001b[43mstorage_options\u001b[49m\u001b[38;5;241;43m=\u001b[39;49m\u001b[38;5;28;43mself\u001b[39;49m\u001b[38;5;241;43m.\u001b[39;49m\u001b[43moptions\u001b[49m\u001b[38;5;241;43m.\u001b[39;49m\u001b[43mget\u001b[49m\u001b[43m(\u001b[49m\u001b[38;5;124;43m\"\u001b[39;49m\u001b[38;5;124;43mstorage_options\u001b[39;49m\u001b[38;5;124;43m\"\u001b[39;49m\u001b[43m,\u001b[49m\u001b[43m \u001b[49m\u001b[38;5;28;43;01mNone\u001b[39;49;00m\u001b[43m)\u001b[49m\u001b[43m,\u001b[49m\n\u001b[1;32m   1670\u001b[0m \u001b[43m\u001b[49m\u001b[43m)\u001b[49m\n\u001b[1;32m   1671\u001b[0m \u001b[38;5;28;01massert\u001b[39;00m \u001b[38;5;28mself\u001b[39m\u001b[38;5;241m.\u001b[39mhandles \u001b[38;5;129;01mis\u001b[39;00m \u001b[38;5;129;01mnot\u001b[39;00m \u001b[38;5;28;01mNone\u001b[39;00m\n\u001b[1;32m   1672\u001b[0m f \u001b[38;5;241m=\u001b[39m \u001b[38;5;28mself\u001b[39m\u001b[38;5;241m.\u001b[39mhandles\u001b[38;5;241m.\u001b[39mhandle\n",
      "File \u001b[0;32m~/Tesi/recsost_env/lib/python3.8/site-packages/pandas/io/common.py:859\u001b[0m, in \u001b[0;36mget_handle\u001b[0;34m(path_or_buf, mode, encoding, compression, memory_map, is_text, errors, storage_options)\u001b[0m\n\u001b[1;32m    854\u001b[0m \u001b[38;5;28;01melif\u001b[39;00m \u001b[38;5;28misinstance\u001b[39m(handle, \u001b[38;5;28mstr\u001b[39m):\n\u001b[1;32m    855\u001b[0m     \u001b[38;5;66;03m# Check whether the filename is to be opened in binary mode.\u001b[39;00m\n\u001b[1;32m    856\u001b[0m     \u001b[38;5;66;03m# Binary mode does not support 'encoding' and 'newline'.\u001b[39;00m\n\u001b[1;32m    857\u001b[0m     \u001b[38;5;28;01mif\u001b[39;00m ioargs\u001b[38;5;241m.\u001b[39mencoding \u001b[38;5;129;01mand\u001b[39;00m \u001b[38;5;124m\"\u001b[39m\u001b[38;5;124mb\u001b[39m\u001b[38;5;124m\"\u001b[39m \u001b[38;5;129;01mnot\u001b[39;00m \u001b[38;5;129;01min\u001b[39;00m ioargs\u001b[38;5;241m.\u001b[39mmode:\n\u001b[1;32m    858\u001b[0m         \u001b[38;5;66;03m# Encoding\u001b[39;00m\n\u001b[0;32m--> 859\u001b[0m         handle \u001b[38;5;241m=\u001b[39m \u001b[38;5;28;43mopen\u001b[39;49m\u001b[43m(\u001b[49m\n\u001b[1;32m    860\u001b[0m \u001b[43m            \u001b[49m\u001b[43mhandle\u001b[49m\u001b[43m,\u001b[49m\n\u001b[1;32m    861\u001b[0m \u001b[43m            \u001b[49m\u001b[43mioargs\u001b[49m\u001b[38;5;241;43m.\u001b[39;49m\u001b[43mmode\u001b[49m\u001b[43m,\u001b[49m\n\u001b[1;32m    862\u001b[0m \u001b[43m            \u001b[49m\u001b[43mencoding\u001b[49m\u001b[38;5;241;43m=\u001b[39;49m\u001b[43mioargs\u001b[49m\u001b[38;5;241;43m.\u001b[39;49m\u001b[43mencoding\u001b[49m\u001b[43m,\u001b[49m\n\u001b[1;32m    863\u001b[0m \u001b[43m            \u001b[49m\u001b[43merrors\u001b[49m\u001b[38;5;241;43m=\u001b[39;49m\u001b[43merrors\u001b[49m\u001b[43m,\u001b[49m\n\u001b[1;32m    864\u001b[0m \u001b[43m            \u001b[49m\u001b[43mnewline\u001b[49m\u001b[38;5;241;43m=\u001b[39;49m\u001b[38;5;124;43m\"\u001b[39;49m\u001b[38;5;124;43m\"\u001b[39;49m\u001b[43m,\u001b[49m\n\u001b[1;32m    865\u001b[0m \u001b[43m        \u001b[49m\u001b[43m)\u001b[49m\n\u001b[1;32m    866\u001b[0m     \u001b[38;5;28;01melse\u001b[39;00m:\n\u001b[1;32m    867\u001b[0m         \u001b[38;5;66;03m# Binary mode\u001b[39;00m\n\u001b[1;32m    868\u001b[0m         handle \u001b[38;5;241m=\u001b[39m \u001b[38;5;28mopen\u001b[39m(handle, ioargs\u001b[38;5;241m.\u001b[39mmode)\n",
      "\u001b[0;31mFileNotFoundError\u001b[0m: [Errno 2] No such file or directory: 'ml-10m_40U10I/ml-10m_40U10I.inter'"
     ]
    }
   ],
   "source": [
    "# Dal file di inter prendere item presenti, recuperare il nome delle entità corrispondenti dal file .link. Poi andare nel file .kg e filtrare solo le righe che presentano le entità recuperate in precedenza. Salvare il file filtrato con un nome significativo.\n",
    "\n",
    "#FILTRARE IN BASE ALLA PRIMA COLONNA\n",
    "#FORSE ANCHE IN BASE ALLA TERZA COLONNA\n",
    "\n",
    "interactions = pd.read_csv('movielens_1m/ml-movielens_1m.inter', sep='\\t')\n",
    "links=pd.read_csv('ml-movielens_1m/ml-movielens_1m.link', sep='\\t')\n",
    "\n",
    "#from links save only rows where item_id:token is in interactions\n",
    "interactions_links = links[links['item_id:token'].isin(set(interactions['item_id:token']))]\n",
    "print('Interactions:', len(interactions))\n",
    "\n",
    "\n",
    "entities = interactions_links['entity_id:token']\n",
    "print('Entities:', len(entities))\n",
    "kg = pd.read_csv('ml-10m_40U10I/ml-10m_40U10I.kg', sep='\\t')\n",
    "\n",
    "\n",
    "kg_filtered = kg[kg['head_id:token'].isin(entities)]\n",
    "\n",
    "print('KG:', len(kg_filtered))\n",
    "os.remove('ml-10m_40U10I/ml-10m_40U10I.kg')\n",
    "kg_filtered.to_csv('ml-10m_40U10I/ml-10m_40U10I.kg', sep='\\t', index=False)\n"
   ]
  },
  {
   "cell_type": "code",
   "execution_count": 39,
   "metadata": {},
   "outputs": [],
   "source": [
    "def dataSetInfo(path:str):\n",
    "    print(\"NOME DEL DATASET: \",path)\n",
    "    print(\"INFO SULLE INTERAZIONI\")\n",
    "    interactions = pd.read_csv(path+\"/\"+path+\".inter\", sep='\\t')\n",
    "    n_users = interactions['user_id:token'].nunique()\n",
    "    n_items = interactions['item_id:token'].nunique()\n",
    "    n_interactions = len(interactions)\n",
    "    print(\"Numero utenti=\",n_users)\n",
    "    print(\"Numero items=\",n_items)\n",
    "    print(\"Numero interazioni=\",n_interactions)\n",
    "    print(\"Sparsity=\",1-(n_interactions/(n_users*n_items)))\n",
    "    print(\"Avg interazioni per utente=\",n_interactions/n_users)\n",
    "    print(\"Avg interazioni per item=\",n_interactions/n_items)\n",
    "    print(\"INFO SUL KNWOLEDGE GRAPH\")\n",
    "    kg=pd.read_csv(path+\"/\"+path+\".kg\", sep='\\t')\n",
    "    n_entities_head=kg['head_id:token'].nunique()\n",
    "    n_entities_tail=kg['tail_id:token'].nunique()\n",
    "    n_relations=kg['relation_id:token'].nunique()\n",
    "    n_triples=len(kg)\n",
    "    print(\"Numero entità head=\",n_entities_head)\n",
    "    print(\"Numero entità tail=\",n_entities_tail)\n",
    "    print(\"Numero relazioni=\",n_relations)\n",
    "    print(\"Numero triple=\",n_triples)\n"
   ]
  },
  {
   "cell_type": "code",
   "execution_count": 46,
   "metadata": {},
   "outputs": [
    {
     "name": "stdout",
     "output_type": "stream",
     "text": [
      "NOME DEL DATASET:  amazon_books_60core_kg\n",
      "INFO SULLE INTERAZIONI\n",
      "Numero utenti= 22155\n",
      "Numero items= 54458\n",
      "Numero interazioni= 1465871\n",
      "Sparsity= 0.9987850390735069\n",
      "Avg interazioni per utente= 66.16434213495825\n",
      "Avg interazioni per item= 26.917459326453415\n",
      "INFO SUL KNWOLEDGE GRAPH\n",
      "Numero entità head= 26282\n",
      "Numero entità tail= 26300\n",
      "Numero relazioni= 16\n",
      "Numero triple= 96476\n",
      "Numero entità filtrate= 11446\n"
     ]
    }
   ],
   "source": [
    "\n",
    "\n",
    "dataSetInfo(\"amazon_books_60core_kg\")"
   ]
  }
 ],
 "metadata": {
  "kernelspec": {
   "display_name": "recsost_env",
   "language": "python",
   "name": "python3"
  },
  "language_info": {
   "codemirror_mode": {
    "name": "ipython",
    "version": 3
   },
   "file_extension": ".py",
   "mimetype": "text/x-python",
   "name": "python",
   "nbconvert_exporter": "python",
   "pygments_lexer": "ipython3",
   "version": "3.8.10"
  }
 },
 "nbformat": 4,
 "nbformat_minor": 2
}
