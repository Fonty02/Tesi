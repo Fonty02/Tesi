{
 "cells": [
  {
   "cell_type": "code",
   "execution_count": 1,
   "metadata": {},
   "outputs": [],
   "source": [
    "import os\n",
    "import sys\n",
    "from sys import platform\n",
    "BASE_PATH = '\\\\'.join(os.getcwd().split('\\\\')[:-1]) + '\\\\' if platform == 'win32' else '/'.join(os.getcwd().split('/')[:-1])\n",
    "sys.path.append(BASE_PATH+'\\src' if platform == 'win32' else BASE_PATH+'/src')\n",
    "from config.global_config import get_global_config\n",
    "from utils import get_total_iterations"
   ]
  },
  {
   "cell_type": "code",
   "execution_count": 2,
   "metadata": {},
   "outputs": [],
   "source": [
    "_config = get_global_config()\n",
    "MODELS = sorted(_config.get('MODELS'))\n",
    "HP_CONFIG_PATH = os.path.join(BASE_PATH, _config.get('HP_CONFIG_PATH'))"
   ]
  },
  {
   "cell_type": "code",
   "execution_count": 3,
   "metadata": {},
   "outputs": [
    {
     "name": "stdout",
     "output_type": "stream",
     "text": [
      "\n",
      "> > > > > > > > > > > > > > > > > > > > > > > > > > > > > > > > > \n",
      "\n",
      "MODEL               N_RUN          MODEL               N_RUN\n",
      "\n",
      "> > > > > > > > > > > > > > > > > > > > > > > > > > > > > > > > > \n",
      "BPR                    27          CDAE                 1296\n",
      "CFKG                  162          CKE                   243\n",
      "DGCF                  243          DMF                    81\n",
      "DiffRec           2985984          EASE                   54\n",
      "ENMF                 2592          FISM                   54\n",
      "GCMC                 1944          ItemKNN               216\n",
      "KGCN                  729          KGIN                 1296\n",
      "KGNNLS                162          KTUP                23328\n",
      "LDiffRec        191102976          LINE                  162\n",
      "LightGCN              216          MKR                  5184\n",
      "MacridVAE            5184          MultiDAE              162\n",
      "MultiVAE              162          NAIS                  108\n",
      "NCEPLRec              324          NCL                  7776\n",
      "NGCF                12960          NNCF                 3456\n",
      "NeuMF                 972          Pop                     4\n",
      "Random                  4          RecVAE               7776\n",
      "RippleNet            1296          SGL                 24300\n",
      "SLIMElastic           720          SimpleX              4374\n",
      "SpectralCF            432\n"
     ]
    }
   ],
   "source": [
    "print('\\n' + ''.join(['> ' for i in range(33)]))\n",
    "print(f'\\n{\"MODEL\":<15}{\"N_RUN\":>10}{\"\":>10}{\"MODEL\":<15}{\"N_RUN\":>10}\\n')\n",
    "print(''.join(['> ' for i in range(33)]))\n",
    "for n in range(0, len(MODELS), 2):\n",
    "\tn1 = get_total_iterations(HP_CONFIG_PATH + MODELS[n] + \".hyper\")\n",
    "\tif n + 1 < len(MODELS):\n",
    "\t\tn2 = get_total_iterations(HP_CONFIG_PATH + MODELS[n + 1] + \".hyper\")\n",
    "\t\tprint(f'{MODELS[n]:<15}{n1:>10}{\"\":>10}{MODELS[n + 1]:<15}{n2:>10}')\n",
    "\telse:\n",
    "\t\tprint(f'{MODELS[n]:<15}{n1:>10}')"
   ]
  }
 ],
 "metadata": {
  "kernelspec": {
   "display_name": "Python 3",
   "language": "python",
   "name": "python3"
  },
  "language_info": {
   "codemirror_mode": {
    "name": "ipython",
    "version": 3
   },
   "file_extension": ".py",
   "mimetype": "text/x-python",
   "name": "python",
   "nbconvert_exporter": "python",
   "pygments_lexer": "ipython3",
   "version": "3.11.4"
  }
 },
 "nbformat": 4,
 "nbformat_minor": 2
}
