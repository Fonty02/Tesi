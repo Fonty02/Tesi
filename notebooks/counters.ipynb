{
 "cells": [
  {
   "cell_type": "code",
   "execution_count": 1,
   "metadata": {},
   "outputs": [],
   "source": [
    "import os\n",
    "import sys\n",
    "from sys import platform\n",
    "import pandas as pd\n",
    "import datetime\n",
    "BASE_PATH = '\\\\'.join(os.getcwd().split('\\\\')[:-1]) + '\\\\' if platform == 'win32' else '/'.join(os.getcwd().split('/')[:-1])\n",
    "sys.path.append(BASE_PATH+'\\src' if platform == 'win32' else BASE_PATH+'/src')\n",
    "from config.global_config import get_global_config\n",
    "from utils import get_total_iterations"
   ]
  },
  {
   "cell_type": "code",
   "execution_count": 2,
   "metadata": {},
   "outputs": [],
   "source": [
    "_config = get_global_config()\n",
    "MODELS = sorted(_config.get('MODELS'))\n",
    "HP_CONFIG_PATH = os.path.join(BASE_PATH, _config.get('HP_CONFIG_PATH'))\n",
    "RESULTS_PATH = os.path.join(BASE_PATH, _config.get('RESULT_PATH'))\n",
    "RESULTS_PATH_SHARED = os.path.join(BASE_PATH, _config.get('RESULT_PATH_SHARED'))\n",
    "if platform == 'win32':\n",
    "\tHP_CONFIG_PATH = HP_CONFIG_PATH.replace('/', '\\\\')\n",
    "\tRESULTS_PATH = RESULTS_PATH.replace('/', '\\\\')\n",
    "\tRESULTS_PATH_SHARED = RESULTS_PATH_SHARED.replace('/', '\\\\')\n",
    "EMISSIONS_FILE = 'emissions.csv'\n",
    "METRICS_FILE = 'metrics.csv'\n",
    "PARAMS_FILE = 'params.csv'"
   ]
  },
  {
   "cell_type": "code",
   "execution_count": 3,
   "metadata": {},
   "outputs": [
    {
     "name": "stdout",
     "output_type": "stream",
     "text": [
      "\n",
      "> > > > > > > > > > > > > > > > > > > > > > > > > > > > > > > > > \n",
      "\n",
      "MODEL               N_RUN          MODEL               N_RUN\n",
      "\n",
      "> > > > > > > > > > > > > > > > > > > > > > > > > > > > > > > > > \n",
      "ADMMSLIM            20736          BPR                    27\n",
      "CDAE                 1296          CFKG                  162\n",
      "CKE                   243          ConvNCF             20736\n",
      "DGCF                  243          DMF                    81\n",
      "DiffRec           2985984          EASE                   54\n",
      "ENMF                 2592          FISM                   54\n",
      "GCMC                 1944          ItemKNN               216\n",
      "KGAT                18225          KGCN                  729\n",
      "KGIN                 1296          KGNNLS                162\n",
      "KTUP                23328          LDiffRec        191102976\n",
      "LINE                  162          LightGCN              216\n",
      "MCCLK                6480          MKR                  5184\n",
      "MacridVAE            5184          MultiDAE              162\n",
      "MultiVAE              162          NAIS                  108\n",
      "NCEPLRec              324          NCL                  7776\n",
      "NGCF                12960          NNCF                 3456\n",
      "NeuMF                 972          Pop                     4\n",
      "RaCT                  540          Random                  4\n",
      "RecVAE               7776          RippleNet            1296\n",
      "SGL                 24300          SLIMElastic           720\n",
      "SimpleX              4374          SpectralCF            432\n"
     ]
    }
   ],
   "source": [
    "print('\\n' + ''.join(['> ' for i in range(33)]))\n",
    "print(f'\\n{\"MODEL\":<15}{\"N_RUN\":>10}{\"\":>10}{\"MODEL\":<15}{\"N_RUN\":>10}\\n')\n",
    "print(''.join(['> ' for i in range(33)]))\n",
    "for n in range(0, len(MODELS), 2):\n",
    "\tn1 = get_total_iterations(HP_CONFIG_PATH + MODELS[n] + \".hyper\")\n",
    "\tif n + 1 < len(MODELS):\n",
    "\t\tn2 = get_total_iterations(HP_CONFIG_PATH + MODELS[n + 1] + \".hyper\")\n",
    "\t\tprint(f'{MODELS[n]:<15}{n1:>10}{\"\":>10}{MODELS[n + 1]:<15}{n2:>10}')\n",
    "\telse:\n",
    "\t\tprint(f'{MODELS[n]:<15}{n1:>10}')"
   ]
  },
  {
   "cell_type": "code",
   "execution_count": 4,
   "metadata": {},
   "outputs": [],
   "source": [
    "experiments = []\n",
    "for d in next(os.walk(RESULTS_PATH))[1]:\n",
    "\tfor m in next(os.walk(RESULTS_PATH + d))[1]:\n",
    "\t\texperiments.append(os.path.join(d, m))\n",
    "experiments = sorted(experiments)\n",
    "results = {\n",
    "\t'emissions': [],\n",
    "\t'duration': []\n",
    "}"
   ]
  },
  {
   "cell_type": "code",
   "execution_count": 5,
   "metadata": {},
   "outputs": [
    {
     "name": "stdout",
     "output_type": "stream",
     "text": [
      "> > > > > > > > > > > > > > > > > > > > > > > > > > > > > > > > > > > > > > > > > > \n",
      "\n",
      "ID   DATASET           MODEL       RUNs            DURATION      AVG DURATION\n",
      "\n",
      "> > > > > > > > > > > > > > > > > > > > > > > > > > > > > > > > > > > > > > > > > > \n"
     ]
    },
    {
     "ename": "Exception",
     "evalue": "",
     "output_type": "error",
     "traceback": [
      "\u001b[0;31m---------------------------------------------------------------------------\u001b[0m",
      "\u001b[0;31mException\u001b[0m                                 Traceback (most recent call last)",
      "\u001b[0;32m/var/folders/jg/fv4rd1yn27s3hvyhwbxbnpjm0000gn/T/ipykernel_93720/3972145320.py\u001b[0m in \u001b[0;36m<cell line: 0>\u001b[0;34m()\u001b[0m\n\u001b[1;32m      6\u001b[0m         \u001b[0me\u001b[0m \u001b[0;34m=\u001b[0m \u001b[0memissions_df\u001b[0m\u001b[0;34m[\u001b[0m\u001b[0;34m[\u001b[0m\u001b[0;34m'project_name'\u001b[0m\u001b[0;34m,\u001b[0m \u001b[0;34m'duration'\u001b[0m\u001b[0;34m,\u001b[0m \u001b[0;34m'emissions'\u001b[0m\u001b[0;34m]\u001b[0m\u001b[0;34m]\u001b[0m\u001b[0;34m.\u001b[0m\u001b[0mgroupby\u001b[0m\u001b[0;34m(\u001b[0m\u001b[0;34m[\u001b[0m\u001b[0;34m'project_name'\u001b[0m\u001b[0;34m]\u001b[0m\u001b[0;34m)\u001b[0m\u001b[0;34m.\u001b[0m\u001b[0msum\u001b[0m\u001b[0;34m(\u001b[0m\u001b[0;34m)\u001b[0m\u001b[0;34m\u001b[0m\u001b[0;34m\u001b[0m\u001b[0m\n\u001b[1;32m      7\u001b[0m         \u001b[0;32mif\u001b[0m \u001b[0mlen\u001b[0m\u001b[0;34m(\u001b[0m\u001b[0me\u001b[0m\u001b[0;34m)\u001b[0m \u001b[0;34m>\u001b[0m \u001b[0;36m1\u001b[0m \u001b[0;32mor\u001b[0m \u001b[0mlen\u001b[0m\u001b[0;34m(\u001b[0m\u001b[0mm\u001b[0m\u001b[0;34m)\u001b[0m \u001b[0;34m>\u001b[0m \u001b[0;36m1\u001b[0m\u001b[0;34m:\u001b[0m\u001b[0;34m\u001b[0m\u001b[0;34m\u001b[0m\u001b[0m\n\u001b[0;32m----> 8\u001b[0;31m                 \u001b[0;32mraise\u001b[0m \u001b[0mException\u001b[0m\u001b[0;34m(\u001b[0m\u001b[0;34m)\u001b[0m\u001b[0;34m\u001b[0m\u001b[0;34m\u001b[0m\u001b[0m\n\u001b[0m\u001b[1;32m      9\u001b[0m         \u001b[0;32melse\u001b[0m\u001b[0;34m:\u001b[0m\u001b[0;34m\u001b[0m\u001b[0;34m\u001b[0m\u001b[0m\n\u001b[1;32m     10\u001b[0m                 \u001b[0mresults\u001b[0m\u001b[0;34m[\u001b[0m\u001b[0;34m'emissions'\u001b[0m\u001b[0;34m]\u001b[0m\u001b[0;34m.\u001b[0m\u001b[0mappend\u001b[0m\u001b[0;34m(\u001b[0m\u001b[0me\u001b[0m\u001b[0;34m.\u001b[0m\u001b[0miloc\u001b[0m\u001b[0;34m[\u001b[0m\u001b[0;36m0\u001b[0m\u001b[0;34m]\u001b[0m\u001b[0;34m[\u001b[0m\u001b[0;34m'emissions'\u001b[0m\u001b[0;34m]\u001b[0m\u001b[0;34m*\u001b[0m\u001b[0;36m1000\u001b[0m\u001b[0;34m)\u001b[0m\u001b[0;34m\u001b[0m\u001b[0;34m\u001b[0m\u001b[0m\n",
      "\u001b[0;31mException\u001b[0m: "
     ]
    }
   ],
   "source": [
    "print(''.join(['> ' for i in range(42)]))\n",
    "print(f'\\n{\"ID\":<5}{\"DATASET\":<18}{\"MODEL\":<8}{\"RUNs\":>8}{\"DURATION\":>20}{\"AVG DURATION\":>18}\\n')\n",
    "print(''.join(['> ' for i in range(42)]))\n",
    "for i, v in enumerate(experiments):\n",
    "\temissions_df = pd.read_csv(os.path.join(RESULTS_PATH, v, EMISSIONS_FILE))\n",
    "\te = emissions_df[['project_name', 'duration', 'emissions']].groupby(['project_name']).sum()\n",
    "\tif len(e) > 1 or len(m) > 1:\n",
    "\t\traise Exception()\n",
    "\telse:\n",
    "\t\tresults['emissions'].append(e.iloc[0]['emissions']*1000)\n",
    "\t\tresults['duration'].append(e.iloc[0]['duration'])\n",
    "\t\truns = get_total_iterations(HP_CONFIG_PATH + v.split(\"/\")[1] + \".hyper\")\n",
    "\t\tprint(f'\\n{i+1:<5}{v.split(\"/\")[0]+\"_100k\":<18}{v.split(\"/\")[1]:<8}{runs:>8}{str(datetime.timedelta(seconds=int(e.iloc[0][\"duration\"]))):>20}{str(datetime.timedelta(seconds=int(e.iloc[0][\"duration\"]/runs)))[2:]:>18}')"
   ]
  },
  {
   "cell_type": "code",
   "execution_count": 7,
   "metadata": {},
   "outputs": [],
   "source": [
    "experiments = []\n",
    "for d in next(os.walk(RESULTS_PATH_SHARED))[1]:\n",
    "\tfor m in next(os.walk(RESULTS_PATH_SHARED + d))[1]:\n",
    "\t\texperiments.append(os.path.join(d, m))\n",
    "experiments = sorted(experiments)\n",
    "results = {\n",
    "\t'emissions': [],\n",
    "\t'duration': []\n",
    "}"
   ]
  },
  {
   "cell_type": "code",
   "execution_count": 9,
   "metadata": {},
   "outputs": [
    {
     "name": "stdout",
     "output_type": "stream",
     "text": [
      "> > > > > > > > > > > > > > > > > > > > > > > > > > > > > > > > > > > > > > > > \n",
      "\n",
      "ID   DATASET           MODEL           DURATION(h)      EMISSIONS(g)\n",
      "\n",
      "> > > > > > > > > > > > > > > > > > > > > > > > > > > > > > > > > > > > > > > > \n",
      "1    amazon_books      ItemKNN             0:03:03           0.09906\n",
      "2    mind              BPR                 0:03:22           0.07977\n",
      "3    mind              CDAE                0:03:26           0.08848\n",
      "4    mind              DGCF                3:31:22           9.20494\n",
      "5    mind              DMF                 0:19:49           0.76172\n",
      "6    mind              DiffRec             0:07:15           0.14438\n",
      "7    mind              EASE                0:00:48           0.01958\n",
      "8    mind              ENMF                0:04:53           0.13767\n",
      "9    mind              FISM                1:10:48           2.09903\n",
      "10   mind              GCMC               10:16:05          17.71566\n",
      "11   mind              ItemKNN             0:01:22           0.03872\n",
      "12   mind              LDiffRec            0:06:41           0.14728\n",
      "13   mind              LINE                0:03:35           0.10480\n",
      "14   mind              LightGCN            0:11:54           0.34048\n",
      "15   mind              MacridVAE           0:18:18           0.63717\n",
      "16   mind              MultiDAE            0:05:43           0.15481\n",
      "17   mind              MultiVAE            0:05:19           0.12660\n",
      "18   mind              NAIS                1:51:29           4.38488\n",
      "19   mind              NCEPLRec            0:04:30           0.10368\n",
      "20   mind              NCL                 0:23:59           0.86830\n",
      "21   mind              NGCF                0:20:34           0.58052\n",
      "22   mind              NeuMF               0:12:35           0.38844\n",
      "23   mind              Pop                 0:00:43           0.01655\n",
      "24   mind              Random              0:00:47           0.01900\n",
      "25   mind              RecVAE              0:06:17           0.15660\n",
      "26   mind              SGL                 0:46:24           1.54892\n",
      "27   mind              SimpleX             0:04:47           0.14438\n",
      "28   mind              SpectralCF          0:22:03           0.67292\n",
      "29   movielens_1m      BPR                 0:01:03           0.02731\n",
      "30   movielens_1m      CDAE                0:00:53           0.01886\n",
      "31   movielens_1m      CFKG                0:02:49           0.09618\n",
      "32   movielens_1m      CKE                 0:06:03           0.22309\n",
      "33   movielens_1m      ConvNCF             7:32:20          11.32026\n",
      "34   movielens_1m      DGCF                3:12:04           8.32166\n",
      "35   movielens_1m      DMF                 0:06:25           0.22655\n",
      "36   movielens_1m      DiffRec             0:01:48           0.04726\n",
      "37   movielens_1m      EASE                0:00:24           0.00077\n",
      "38   movielens_1m      ENMF                0:01:06           0.02620\n",
      "39   movielens_1m      FISM                0:44:42           1.35577\n",
      "40   movielens_1m      GCMC                2:05:09           3.99559\n",
      "41   movielens_1m      ItemKNN             0:00:33           0.01364\n",
      "42   movielens_1m      KGCN                0:05:44           0.22690\n",
      "43   movielens_1m      KGIN                0:00:12           0.00035\n",
      "44   movielens_1m      KGNNLS              0:06:16           0.24263\n",
      "45   movielens_1m      KTUP                0:05:53           0.21216\n",
      "46   movielens_1m      LDiffRec            0:01:36           0.03416\n",
      "47   movielens_1m      LINE                0:01:15           0.02989\n",
      "48   movielens_1m      LightGCN            0:08:34           0.26564\n",
      "49   movielens_1m      MKR                 0:29:37           0.88408\n",
      "50   movielens_1m      MacridVAE           0:03:57           0.09620\n",
      "51   movielens_1m      MultiDAE            0:01:13           0.02370\n",
      "52   movielens_1m      MultiVAE            0:01:12           0.01751\n",
      "53   movielens_1m      NAIS                2:30:57           6.48882\n",
      "54   movielens_1m      NCEPLRec            0:01:14           0.02181\n",
      "55   movielens_1m      NCL                 0:00:09           0.00017\n",
      "56   movielens_1m      NGCF                0:13:49           0.40565\n",
      "57   movielens_1m      NNCF                6:47:37          19.53723\n",
      "58   movielens_1m      NeuMF               0:03:30           0.10633\n",
      "59   movielens_1m      Pop                 0:00:21           0.00060\n",
      "60   movielens_1m      Random              0:00:22           0.00037\n",
      "61   movielens_1m      RecVAE              0:01:33           0.04256\n",
      "62   movielens_1m      RippleNet           3:04:19           7.00527\n",
      "63   movielens_1m      SGL                 0:35:09           1.12680\n",
      "64   movielens_1m      SLIMElastic         0:02:56           0.05507\n",
      "65   movielens_1m      SimpleX             0:01:55           0.06098\n",
      "66   movielens_1m      SpectralCF          0:16:39           0.48781\n"
     ]
    }
   ],
   "source": [
    "print(''.join(['> ' for i in range(40)]))\n",
    "print(f'\\n{\"ID\":<5}{\"DATASET\":<18}{\"MODEL\":<12}{\"DURATION(h)\":>15}{\"EMISSIONS(g)\":>18}\\n')\n",
    "print(''.join(['> ' for i in range(40)]))\n",
    "for i, v in enumerate(experiments):\n",
    "\te = pd.read_csv(os.path.join(RESULTS_PATH_SHARED, v, EMISSIONS_FILE))\n",
    "\tresults['emissions'].append(e.iloc[0]['emissions']*1000)\n",
    "\tresults['duration'].append(e.iloc[0]['duration'])\n",
    "\tprint(f'{i+1:<5}{v.split(\"/\")[0][:12]:<18}{v.split(\"/\")[1]:<12}{str(datetime.timedelta(seconds=int(e.iloc[0][\"duration\"]))):>15}{e.iloc[0][\"emissions\"]*1000:>18.5f}')"
   ]
  }
 ],
 "metadata": {
  "kernelspec": {
   "display_name": "Python 3",
   "language": "python",
   "name": "python3"
  },
  "language_info": {
   "codemirror_mode": {
    "name": "ipython",
    "version": 3
   },
   "file_extension": ".py",
   "mimetype": "text/x-python",
   "name": "python",
   "nbconvert_exporter": "python",
   "pygments_lexer": "ipython3",
   "version": "3.11.4"
  }
 },
 "nbformat": 4,
 "nbformat_minor": 2
}
