{
 "cells": [
  {
   "cell_type": "markdown",
   "metadata": {},
   "source": [
    "## Settings"
   ]
  },
  {
   "cell_type": "code",
   "execution_count": 8,
   "metadata": {},
   "outputs": [],
   "source": [
    "import os\n",
    "import sys\n",
    "from sys import platform\n",
    "import pandas as pd\n",
    "import datetime\n",
    "BASE_PATH = '\\\\'.join(os.getcwd().split('\\\\')[:-1]) + '\\\\' if platform == 'win32' else '/'.join(os.getcwd().split('/')[:-1])\n",
    "sys.path.append(BASE_PATH+'\\src' if platform == 'win32' else BASE_PATH+'/src')\n",
    "from config.global_config import get_global_config\n",
    "from utils import get_total_iterations"
   ]
  },
  {
   "cell_type": "code",
   "execution_count": 9,
   "metadata": {},
   "outputs": [],
   "source": [
    "_config = get_global_config()\n",
    "MODELS = sorted(_config.get('MODELS'))\n",
    "HP_CONFIG_PATH = os.path.join(BASE_PATH, _config.get('HP_CONFIG_PATH'))\n",
    "RESULTS_PATH = os.path.join(BASE_PATH, _config.get('RESULT_PATH'))\n",
    "RESULTS_PATH_SHARED = os.path.join(BASE_PATH, _config.get('RESULT_PATH_SHARED'))\n",
    "if platform == 'win32':\n",
    "\tHP_CONFIG_PATH = HP_CONFIG_PATH.replace('/', '\\\\')\n",
    "\tRESULTS_PATH = RESULTS_PATH.replace('/', '\\\\')\n",
    "\tRESULTS_PATH_SHARED = RESULTS_PATH_SHARED.replace('/', '\\\\')\n",
    "EMISSIONS_FILE = 'emissions.csv'\n",
    "METRICS_FILE = 'metrics.csv'\n",
    "PARAMS_FILE = 'params.csv'"
   ]
  },
  {
   "cell_type": "markdown",
   "metadata": {},
   "source": [
    "## Counter #1\n",
    "\n",
    "Number of runs for each model."
   ]
  },
  {
   "cell_type": "code",
   "execution_count": 3,
   "metadata": {},
   "outputs": [
    {
     "name": "stdout",
     "output_type": "stream",
     "text": [
      "\n",
      "> > > > > > > > > > > > > > > > > > > > > > > > > > > > > > > > > \n",
      "\n",
      "MODEL               N_RUN          MODEL               N_RUN\n",
      "\n",
      "> > > > > > > > > > > > > > > > > > > > > > > > > > > > > > > > > \n",
      "ADMMSLIM            20736          BPR                    27\n",
      "CDAE                 1296          CFKG                  162\n",
      "CKE                   243          ConvNCF             20736\n",
      "DGCF                  243          DMF                    81\n",
      "DiffRec           2985984          EASE                   54\n",
      "ENMF                 2592          FISM                   54\n",
      "GCMC                 1944          ItemKNN               216\n",
      "KGAT                18225          KGCN                  729\n",
      "KGIN                 1296          KGNNLS                162\n",
      "KTUP                23328          LDiffRec        191102976\n",
      "LINE                  162          LightGCN              216\n",
      "MCCLK                6480          MKR                  5184\n",
      "MacridVAE            5184          MultiDAE              162\n",
      "MultiVAE              162          NAIS                  108\n",
      "NCEPLRec              324          NCL                  7776\n",
      "NGCF                12960          NNCF                 3456\n",
      "NeuMF                 972          Pop                     4\n",
      "RaCT                  540          Random                  4\n",
      "RecVAE               7776          RippleNet            1296\n",
      "SGL                 24300          SLIMElastic           720\n",
      "SimpleX              4374          SpectralCF            432\n"
     ]
    }
   ],
   "source": [
    "print('\\n' + ''.join(['> ' for i in range(33)]))\n",
    "print(f'\\n{\"MODEL\":<15}{\"N_RUN\":>10}{\"\":>10}{\"MODEL\":<15}{\"N_RUN\":>10}\\n')\n",
    "print(''.join(['> ' for i in range(33)]))\n",
    "for n in range(0, len(MODELS), 2):\n",
    "\tn1 = get_total_iterations(HP_CONFIG_PATH + MODELS[n] + \".hyper\")\n",
    "\tif n + 1 < len(MODELS):\n",
    "\t\tn2 = get_total_iterations(HP_CONFIG_PATH + MODELS[n + 1] + \".hyper\")\n",
    "\t\tprint(f'{MODELS[n]:<15}{n1:>10}{\"\":>10}{MODELS[n + 1]:<15}{n2:>10}')\n",
    "\telse:\n",
    "\t\tprint(f'{MODELS[n]:<15}{n1:>10}')"
   ]
  },
  {
   "cell_type": "markdown",
   "metadata": {},
   "source": [
    "## Counter #2\n",
    "\n",
    "Number of runs, duration and average duration for each model for which the hyperparameter tuning has been executed."
   ]
  },
  {
   "cell_type": "code",
   "execution_count": 4,
   "metadata": {},
   "outputs": [],
   "source": [
    "experiments = []\n",
    "for d in next(os.walk(RESULTS_PATH))[1]:\n",
    "\tfor m in next(os.walk(RESULTS_PATH + d))[1]:\n",
    "\t\texperiments.append(os.path.join(d, m))\n",
    "experiments = sorted(experiments)\n",
    "results = {\n",
    "\t'emissions': [],\n",
    "\t'duration': []\n",
    "}"
   ]
  },
  {
   "cell_type": "code",
   "execution_count": 5,
   "metadata": {},
   "outputs": [
    {
     "name": "stdout",
     "output_type": "stream",
     "text": [
      "> > > > > > > > > > > > > > > > > > > > > > > > > > > > > > > > > > > > > > > > > > \n",
      "\n",
      "ID   DATASET           MODEL       RUNs            DURATION      AVG DURATION\n",
      "\n",
      "> > > > > > > > > > > > > > > > > > > > > > > > > > > > > > > > > > > > > > > > > > \n",
      "\n",
      "1    movielens         BPR           27             0:10:41             00:23\n",
      "\n",
      "2    movielens         CFKG         162             2:00:19             00:44\n",
      "\n",
      "3    movielens         CKE          243            10:04:54             02:29\n",
      "\n",
      "4    movielens         DGCF         243     1 day, 10:47:39             08:35\n",
      "\n",
      "5    movielens         DMF           81             0:45:40             00:33\n",
      "\n",
      "6    movielens         FISM          54             5:27:31             06:03\n",
      "\n",
      "7    movielens         ItemKNN      216             0:51:20             00:14\n",
      "\n",
      "8    movielens         KGNNLS       162             4:17:06             01:35\n",
      "\n",
      "9    movielens         LINE         162             1:06:41             00:24\n",
      "\n",
      "10   movielens         LightGCN     216             2:41:46             00:44\n",
      "\n",
      "11   movielens         MultiDAE     162             1:28:54             00:32\n",
      "\n",
      "12   movielens         NAIS         108            23:21:40             12:58\n",
      "\n",
      "13   movielens_1m      BPR           27             2:33:35             05:41\n",
      "\n",
      "14   movielens_1m      CFKG         162            21:35:43             07:59\n",
      "\n",
      "15   movielens_1m      CKE          243     1 day, 18:13:35             10:25\n",
      "\n",
      "16   movielens_1m      DMF           81            17:15:43             12:47\n",
      "\n",
      "17   movielens_1m      FISM          54      1 day, 7:24:19             34:53\n",
      "\n",
      "18   movielens_1m      ItemKNN      216             1:52:57             00:31\n",
      "\n",
      "19   movielens_1m      KGNNLS       162     1 day, 17:50:50             15:29\n"
     ]
    }
   ],
   "source": [
    "print(''.join(['> ' for i in range(42)]))\n",
    "print(f'\\n{\"ID\":<5}{\"DATASET\":<18}{\"MODEL\":<8}{\"RUNs\":>8}{\"DURATION\":>20}{\"AVG DURATION\":>18}\\n')\n",
    "print(''.join(['> ' for i in range(42)]))\n",
    "for i, v in enumerate(experiments):\n",
    "\temissions_df = pd.read_csv(os.path.join(RESULTS_PATH, v, EMISSIONS_FILE))\n",
    "\te = emissions_df[['project_name', 'duration', 'emissions']].groupby(['project_name']).sum()\n",
    "\tif len(e) > 1:\n",
    "\t\traise Exception()\n",
    "\telse:\n",
    "\t\tresults['emissions'].append(e.iloc[0]['emissions']*1000)\n",
    "\t\tresults['duration'].append(e.iloc[0]['duration'])\n",
    "\t\truns = get_total_iterations(HP_CONFIG_PATH + v.split(\"/\")[1] + \".hyper\")\n",
    "\t\tprint(f'\\n{i+1:<5}{v.split(\"/\")[0]:<18}{v.split(\"/\")[1]:<8}{runs:>8}{str(datetime.timedelta(seconds=int(e.iloc[0][\"duration\"]))):>20}{str(datetime.timedelta(seconds=int(e.iloc[0][\"duration\"]/runs)))[2:]:>18}')"
   ]
  },
  {
   "cell_type": "markdown",
   "metadata": {},
   "source": [
    "## Counter #3\n",
    "\n",
    "Duration of execution with default parameters for each model and for each dataset."
   ]
  },
  {
   "cell_type": "code",
   "execution_count": 6,
   "metadata": {},
   "outputs": [],
   "source": [
    "experiments = []\n",
    "for d in next(os.walk(RESULTS_PATH_SHARED))[1]:\n",
    "\tfor m in next(os.walk(RESULTS_PATH_SHARED + d))[1]:\n",
    "\t\texperiments.append(os.path.join(d, m))\n",
    "experiments = sorted(experiments)\n",
    "results = {\n",
    "\t'emissions': [],\n",
    "\t'duration': []\n",
    "}"
   ]
  },
  {
   "cell_type": "code",
   "execution_count": 7,
   "metadata": {},
   "outputs": [
    {
     "name": "stdout",
     "output_type": "stream",
     "text": [
      "> > > > > > > > > > > > > > > > > > > > > > > > > > > > > > \n",
      "\n",
      "ID   DATASET           MODEL           DURATION(h)\n",
      "\n",
      "> > > > > > > > > > > > > > > > > > > > > > > > > > > > > > \n",
      "1    amazon_books      BPR                 0:23:36\n",
      "2    amazon_books      CDAE                0:27:50\n",
      "3    amazon_books      CFKG                0:08:06\n",
      "4    amazon_books      CKE                 0:06:27\n",
      "5    amazon_books      DGCF                7:40:28\n",
      "6    amazon_books      DMF                 0:40:24\n",
      "7    amazon_books      DiffRec             1:26:07\n",
      "8    amazon_books      ENMF                0:26:58\n",
      "9    amazon_books      FISM                8:40:36\n",
      "10   amazon_books      GCMC               22:46:54\n",
      "11   amazon_books      ItemKNN             0:03:03\n",
      "12   amazon_books      KGCN                0:22:54\n",
      "13   amazon_books      KGIN                0:07:44\n",
      "14   amazon_books      KGNNLS              0:22:44\n",
      "15   amazon_books      KTUP                0:26:26\n",
      "16   amazon_books      LDiffRec            0:46:42\n",
      "17   amazon_books      LINE                0:24:16\n",
      "18   amazon_books      LightGCN            0:43:30\n",
      "19   amazon_books      MKR                 3:07:18\n",
      "20   amazon_books      MacridVAE           3:26:00\n",
      "21   amazon_books      MultiDAE            0:48:06\n",
      "22   amazon_books      MultiVAE            0:49:13\n",
      "23   amazon_books      NCL                 1:24:24\n",
      "24   amazon_books      NGCF                1:11:20\n",
      "25   amazon_books      NeuMF               2:04:32\n",
      "26   amazon_books      Pop                 0:02:35\n",
      "27   amazon_books      Random              0:04:13\n",
      "28   amazon_books      RecVAE              0:48:48\n",
      "29   amazon_books      RippleNet           1:22:16\n",
      "30   amazon_books      SGL                 2:19:31\n",
      "31   amazon_books      SimpleX             0:27:29\n",
      "32   amazon_books      SpectralCF          1:13:45\n",
      "33   mind              BPR                 0:03:22\n",
      "34   mind              CDAE                0:03:26\n",
      "35   mind              DGCF                3:31:22\n",
      "36   mind              DMF                 0:19:49\n",
      "37   mind              DiffRec             0:07:15\n",
      "38   mind              EASE                0:00:48\n",
      "39   mind              ENMF                0:04:53\n",
      "40   mind              FISM                1:10:48\n",
      "41   mind              GCMC               10:16:05\n",
      "42   mind              ItemKNN             0:01:22\n",
      "43   mind              LDiffRec            0:06:41\n",
      "44   mind              LINE                0:03:35\n",
      "45   mind              LightGCN            0:11:54\n",
      "46   mind              MacridVAE           0:18:18\n",
      "47   mind              MultiDAE            0:05:43\n",
      "48   mind              MultiVAE            0:05:19\n",
      "49   mind              NAIS                1:51:29\n",
      "50   mind              NCEPLRec            0:04:30\n",
      "51   mind              NCL                 0:23:59\n",
      "52   mind              NGCF                0:20:34\n",
      "53   mind              NeuMF               0:12:35\n",
      "54   mind              Pop                 0:00:43\n",
      "55   mind              Random              0:00:47\n",
      "56   mind              RecVAE              0:06:17\n",
      "57   mind              SGL                 0:46:24\n",
      "58   mind              SimpleX             0:04:47\n",
      "59   mind              SpectralCF          0:22:03\n",
      "60   movielens_1m      BPR                 0:01:03\n",
      "61   movielens_1m      CDAE                0:00:53\n",
      "62   movielens_1m      CFKG                0:02:49\n",
      "63   movielens_1m      CKE                 0:06:03\n",
      "64   movielens_1m      ConvNCF             7:32:20\n",
      "65   movielens_1m      DGCF                3:12:04\n",
      "66   movielens_1m      DMF                 0:06:25\n",
      "67   movielens_1m      DiffRec             0:01:48\n",
      "68   movielens_1m      EASE                0:00:24\n",
      "69   movielens_1m      ENMF                0:01:06\n",
      "70   movielens_1m      FISM                0:44:42\n",
      "71   movielens_1m      GCMC                2:05:09\n",
      "72   movielens_1m      ItemKNN             0:00:33\n",
      "73   movielens_1m      KGCN                0:05:44\n",
      "74   movielens_1m      KGIN                0:00:12\n",
      "75   movielens_1m      KGNNLS              0:06:16\n",
      "76   movielens_1m      KTUP                0:05:53\n",
      "77   movielens_1m      LDiffRec            0:01:36\n",
      "78   movielens_1m      LINE                0:01:15\n",
      "79   movielens_1m      LightGCN            0:08:34\n",
      "80   movielens_1m      MKR                 0:29:37\n",
      "81   movielens_1m      MacridVAE           0:03:57\n",
      "82   movielens_1m      MultiDAE            0:01:13\n",
      "83   movielens_1m      MultiVAE            0:01:12\n",
      "84   movielens_1m      NAIS                2:30:57\n",
      "85   movielens_1m      NCEPLRec            0:01:14\n",
      "86   movielens_1m      NCL                 0:00:09\n",
      "87   movielens_1m      NGCF                0:13:49\n",
      "88   movielens_1m      NNCF                6:47:37\n",
      "89   movielens_1m      NeuMF               0:03:30\n",
      "90   movielens_1m      Pop                 0:00:21\n",
      "91   movielens_1m      Random              0:00:22\n",
      "92   movielens_1m      RecVAE              0:01:33\n",
      "93   movielens_1m      RippleNet           3:04:19\n",
      "94   movielens_1m      SGL                 0:35:09\n",
      "95   movielens_1m      SLIMElastic         0:02:56\n",
      "96   movielens_1m      SimpleX             0:01:55\n",
      "97   movielens_1m      SpectralCF          0:16:39\n"
     ]
    }
   ],
   "source": [
    "print(''.join(['> ' for i in range(30)]))\n",
    "print(f'\\n{\"ID\":<5}{\"DATASET\":<18}{\"MODEL\":<12}{\"DURATION(h)\":>15}\\n')\n",
    "print(''.join(['> ' for i in range(30)]))\n",
    "for i, v in enumerate(experiments):\n",
    "\te = pd.read_csv(os.path.join(RESULTS_PATH_SHARED, v, EMISSIONS_FILE))\n",
    "\tresults['emissions'].append(e.iloc[0]['emissions']*1000)\n",
    "\tresults['duration'].append(e.iloc[0]['duration'])\n",
    "\tprint(f'{i+1:<5}{v.split(\"/\")[0][:12]:<18}{v.split(\"/\")[1]:<12}{str(datetime.timedelta(seconds=int(e.iloc[0][\"duration\"]))):>15}')"
   ]
  }
 ],
 "metadata": {
  "kernelspec": {
   "display_name": "Python 3",
   "language": "python",
   "name": "python3"
  },
  "language_info": {
   "codemirror_mode": {
    "name": "ipython",
    "version": 3
   },
   "file_extension": ".py",
   "mimetype": "text/x-python",
   "name": "python",
   "nbconvert_exporter": "python",
   "pygments_lexer": "ipython3",
   "version": "3.11.4"
  }
 },
 "nbformat": 4,
 "nbformat_minor": 2
}
