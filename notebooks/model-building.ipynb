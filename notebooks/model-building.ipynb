{
 "cells": [
  {
   "cell_type": "markdown",
   "metadata": {},
   "source": [
    "## Settings"
   ]
  },
  {
   "cell_type": "code",
   "execution_count": 1,
   "metadata": {},
   "outputs": [],
   "source": [
    "import os\n",
    "import sys\n",
    "from sys import platform\n",
    "import pandas as pd\n",
    "import matplotlib.pyplot as plt\n",
    "BASE_PATH = '\\\\'.join(os.getcwd().split('\\\\')[:-1]) + '\\\\' if platform == 'win32' else '/'.join(os.getcwd().split('/')[:-1]) + '/'\n",
    "sys.path.append(BASE_PATH+'\\src' if platform == 'win32' else BASE_PATH+'/src')\n",
    "from config.global_config import get_global_config\n",
    "from utils import get_ds_statistics, get_model_type\n",
    "\n",
    "from sklearn.model_selection import train_test_split\n",
    "from sklearn.tree import DecisionTreeRegressor\n",
    "from sklearn.ensemble import RandomForestRegressor, AdaBoostRegressor\n",
    "from sklearn.svm import SVR\n",
    "from sklearn.metrics import mean_absolute_error, mean_squared_error, mean_squared_log_error"
   ]
  },
  {
   "cell_type": "code",
   "execution_count": 2,
   "metadata": {},
   "outputs": [],
   "source": [
    "_config = get_global_config()\n",
    "DATA_PATH = os.path.join(BASE_PATH, _config.get('DATASET_PATH'))\n",
    "RESULTS_PATH = os.path.join(BASE_PATH, _config.get('RESULT_PATH_SHARED'))\n",
    "DATASET_FILE = os.path.join(BASE_PATH, _config.get('DATASET_FILE'))\n",
    "if platform == 'win32':\n",
    "\tDATA_PATH = DATA_PATH.replace('/', '\\\\')\n",
    "\tRESULTS_PATH = RESULTS_PATH.replace('/', '\\\\')\n",
    "\tDATASET_FILE = DATASET_FILE.replace('/', '\\\\')\n",
    "EMISSIONS_FILE = 'emissions.csv'\n",
    "METRICS_FILE = 'metrics.csv'\n",
    "PARAMS_FILE = 'params.csv'"
   ]
  },
  {
   "cell_type": "code",
   "execution_count": 3,
   "metadata": {},
   "outputs": [],
   "source": [
    "data = pd.DataFrame({\n",
    "\t# Related to dataset\n",
    "    'n_users': [],\n",
    "    'n_items': [],\n",
    "    'n_inter': [],\n",
    "    'sparsity': [],\n",
    "\n",
    "    # Related to KG dataset\n",
    "\t'kg_entities': [],\n",
    "\t'kg_relations': [],\n",
    "\t'kg_triples': [],\n",
    "\t'kg_items': [],\n",
    "\n",
    "\t# Related to hardware\n",
    "    'cpu_cores': [],\n",
    "    'ram_size': [],\n",
    "    'is_gpu': [],\n",
    "\n",
    "\t# Related to model\n",
    "\t'model_name': [],\n",
    "    'model_type': [],\n",
    "\n",
    "\t# Label\n",
    "\t'emissions': []\n",
    "})"
   ]
  },
  {
   "cell_type": "markdown",
   "metadata": {},
   "source": [
    "## Features extraction"
   ]
  },
  {
   "cell_type": "code",
   "execution_count": 4,
   "metadata": {},
   "outputs": [],
   "source": [
    "experiments = []\n",
    "for d in next(os.walk(RESULTS_PATH))[1]:\n",
    "\tfor m in next(os.walk(RESULTS_PATH + d))[1]:\n",
    "\t\texperiments.append(os.path.join(d, m))\n",
    "experiments = sorted(experiments)"
   ]
  },
  {
   "cell_type": "code",
   "execution_count": 5,
   "metadata": {},
   "outputs": [],
   "source": [
    "for i, v in enumerate(experiments):\n",
    "\te = pd.read_csv(os.path.join(RESULTS_PATH, v, EMISSIONS_FILE))\n",
    "\tdataset = v.split(\"/\")[0]\n",
    "\tmodel = v.split(\"/\")[1]\n",
    "\tstats = get_ds_statistics(os.path.join(DATA_PATH, dataset))\n",
    "\tfor _, row in e.iterrows():\n",
    "\t\tdata.loc[len(data)] = [\n",
    "\t\t\tstats['n_users'],\n",
    "\t\t\tstats['n_items'],\n",
    "\t\t\tstats['n_inter'],\n",
    "\t\t\tstats['sparsity'],\n",
    "\t\t\tstats['kg_entities'],\n",
    "\t\t\tstats['kg_relations'],\n",
    "\t\t\tstats['kg_triples'],\n",
    "\t\t\tstats['kg_items'],\n",
    "\t\t\trow['cpu_count'],\n",
    "\t\t\trow['ram_total_size'],\n",
    "\t\t\trow['gpu_count'] if row['gpu_count'] == 1. else .0,\n",
    "\t\t\tmodel,\n",
    "\t\t\tget_model_type(model),\n",
    "\t\t\trow['emissions'],\n",
    "\t\t]"
   ]
  },
  {
   "cell_type": "code",
   "execution_count": 6,
   "metadata": {},
   "outputs": [
    {
     "data": {
      "text/html": [
       "<div>\n",
       "<style scoped>\n",
       "    .dataframe tbody tr th:only-of-type {\n",
       "        vertical-align: middle;\n",
       "    }\n",
       "\n",
       "    .dataframe tbody tr th {\n",
       "        vertical-align: top;\n",
       "    }\n",
       "\n",
       "    .dataframe thead th {\n",
       "        text-align: right;\n",
       "    }\n",
       "</style>\n",
       "<table border=\"1\" class=\"dataframe\">\n",
       "  <thead>\n",
       "    <tr style=\"text-align: right;\">\n",
       "      <th></th>\n",
       "      <th>n_users</th>\n",
       "      <th>n_items</th>\n",
       "      <th>n_inter</th>\n",
       "      <th>sparsity</th>\n",
       "      <th>kg_entities</th>\n",
       "      <th>kg_relations</th>\n",
       "      <th>kg_triples</th>\n",
       "      <th>kg_items</th>\n",
       "      <th>cpu_cores</th>\n",
       "      <th>ram_size</th>\n",
       "      <th>is_gpu</th>\n",
       "      <th>model_name</th>\n",
       "      <th>model_type</th>\n",
       "      <th>emissions</th>\n",
       "    </tr>\n",
       "  </thead>\n",
       "  <tbody>\n",
       "    <tr>\n",
       "      <th>3</th>\n",
       "      <td>22155</td>\n",
       "      <td>54458</td>\n",
       "      <td>1465871</td>\n",
       "      <td>0.998785</td>\n",
       "      <td>26315</td>\n",
       "      <td>16</td>\n",
       "      <td>96476</td>\n",
       "      <td>11446</td>\n",
       "      <td>12</td>\n",
       "      <td>64.0</td>\n",
       "      <td>1.0</td>\n",
       "      <td>CKE</td>\n",
       "      <td>knowledge</td>\n",
       "      <td>0.000180</td>\n",
       "    </tr>\n",
       "    <tr>\n",
       "      <th>53</th>\n",
       "      <td>23679</td>\n",
       "      <td>4414</td>\n",
       "      <td>1048575</td>\n",
       "      <td>0.989968</td>\n",
       "      <td>0</td>\n",
       "      <td>0</td>\n",
       "      <td>0</td>\n",
       "      <td>0</td>\n",
       "      <td>12</td>\n",
       "      <td>64.0</td>\n",
       "      <td>1.0</td>\n",
       "      <td>NGCF</td>\n",
       "      <td>general</td>\n",
       "      <td>0.000581</td>\n",
       "    </tr>\n",
       "    <tr>\n",
       "      <th>58</th>\n",
       "      <td>23679</td>\n",
       "      <td>4414</td>\n",
       "      <td>1048575</td>\n",
       "      <td>0.989968</td>\n",
       "      <td>0</td>\n",
       "      <td>0</td>\n",
       "      <td>0</td>\n",
       "      <td>0</td>\n",
       "      <td>12</td>\n",
       "      <td>64.0</td>\n",
       "      <td>1.0</td>\n",
       "      <td>RecVAE</td>\n",
       "      <td>general</td>\n",
       "      <td>0.000157</td>\n",
       "    </tr>\n",
       "    <tr>\n",
       "      <th>69</th>\n",
       "      <td>6040</td>\n",
       "      <td>3706</td>\n",
       "      <td>1000209</td>\n",
       "      <td>0.955316</td>\n",
       "      <td>79347</td>\n",
       "      <td>49</td>\n",
       "      <td>385923</td>\n",
       "      <td>3655</td>\n",
       "      <td>4</td>\n",
       "      <td>16.0</td>\n",
       "      <td>0.0</td>\n",
       "      <td>CKE</td>\n",
       "      <td>knowledge</td>\n",
       "      <td>0.010781</td>\n",
       "    </tr>\n",
       "    <tr>\n",
       "      <th>25</th>\n",
       "      <td>22155</td>\n",
       "      <td>54458</td>\n",
       "      <td>1465871</td>\n",
       "      <td>0.998785</td>\n",
       "      <td>26315</td>\n",
       "      <td>16</td>\n",
       "      <td>96476</td>\n",
       "      <td>11446</td>\n",
       "      <td>12</td>\n",
       "      <td>64.0</td>\n",
       "      <td>1.0</td>\n",
       "      <td>Pop</td>\n",
       "      <td>general</td>\n",
       "      <td>0.000069</td>\n",
       "    </tr>\n",
       "  </tbody>\n",
       "</table>\n",
       "</div>"
      ],
      "text/plain": [
       "    n_users  n_items  n_inter  sparsity  kg_entities  kg_relations  \\\n",
       "3     22155    54458  1465871  0.998785        26315            16   \n",
       "53    23679     4414  1048575  0.989968            0             0   \n",
       "58    23679     4414  1048575  0.989968            0             0   \n",
       "69     6040     3706  1000209  0.955316        79347            49   \n",
       "25    22155    54458  1465871  0.998785        26315            16   \n",
       "\n",
       "    kg_triples  kg_items  cpu_cores  ram_size  is_gpu model_name model_type  \\\n",
       "3        96476     11446         12      64.0     1.0        CKE  knowledge   \n",
       "53           0         0         12      64.0     1.0       NGCF    general   \n",
       "58           0         0         12      64.0     1.0     RecVAE    general   \n",
       "69      385923      3655          4      16.0     0.0        CKE  knowledge   \n",
       "25       96476     11446         12      64.0     1.0        Pop    general   \n",
       "\n",
       "    emissions  \n",
       "3    0.000180  \n",
       "53   0.000581  \n",
       "58   0.000157  \n",
       "69   0.010781  \n",
       "25   0.000069  "
      ]
     },
     "execution_count": 6,
     "metadata": {},
     "output_type": "execute_result"
    }
   ],
   "source": [
    "data.sample(n=5)"
   ]
  },
  {
   "cell_type": "code",
   "execution_count": 7,
   "metadata": {},
   "outputs": [
    {
     "name": "stdout",
     "output_type": "stream",
     "text": [
      "<class 'pandas.core.frame.DataFrame'>\n",
      "Index: 110 entries, 0 to 109\n",
      "Data columns (total 14 columns):\n",
      " #   Column        Non-Null Count  Dtype  \n",
      "---  ------        --------------  -----  \n",
      " 0   n_users       110 non-null    int64  \n",
      " 1   n_items       110 non-null    int64  \n",
      " 2   n_inter       110 non-null    int64  \n",
      " 3   sparsity      110 non-null    float64\n",
      " 4   kg_entities   110 non-null    int64  \n",
      " 5   kg_relations  110 non-null    int64  \n",
      " 6   kg_triples    110 non-null    int64  \n",
      " 7   kg_items      110 non-null    int64  \n",
      " 8   cpu_cores     110 non-null    int64  \n",
      " 9   ram_size      110 non-null    float64\n",
      " 10  is_gpu        110 non-null    float64\n",
      " 11  model_name    110 non-null    object \n",
      " 12  model_type    110 non-null    object \n",
      " 13  emissions     110 non-null    float64\n",
      "dtypes: float64(4), int64(8), object(2)\n",
      "memory usage: 12.9+ KB\n"
     ]
    }
   ],
   "source": [
    "data.info()"
   ]
  },
  {
   "cell_type": "code",
   "execution_count": 8,
   "metadata": {},
   "outputs": [],
   "source": [
    "if os.path.isfile(DATASET_FILE):\n",
    "\tos.unlink(DATASET_FILE)\n",
    "data.to_csv(DATASET_FILE, index=False, encoding='utf-8')"
   ]
  },
  {
   "cell_type": "markdown",
   "metadata": {},
   "source": [
    "## Preprocessing"
   ]
  },
  {
   "cell_type": "code",
   "execution_count": 17,
   "metadata": {},
   "outputs": [],
   "source": [
    "data = pd.read_csv(DATASET_FILE, encoding='utf-8')"
   ]
  },
  {
   "cell_type": "code",
   "execution_count": 18,
   "metadata": {},
   "outputs": [
    {
     "data": {
      "text/plain": [
       "n_users         False\n",
       "n_items         False\n",
       "n_inter         False\n",
       "sparsity        False\n",
       "kg_entities     False\n",
       "kg_relations    False\n",
       "kg_triples      False\n",
       "kg_items        False\n",
       "cpu_cores       False\n",
       "ram_size        False\n",
       "is_gpu          False\n",
       "model_name      False\n",
       "model_type      False\n",
       "emissions       False\n",
       "dtype: bool"
      ]
     },
     "execution_count": 18,
     "metadata": {},
     "output_type": "execute_result"
    }
   ],
   "source": [
    "# Null values check\n",
    "data.isnull().any()"
   ]
  },
  {
   "cell_type": "code",
   "execution_count": 19,
   "metadata": {},
   "outputs": [],
   "source": [
    "# Turn categorical features into numerical\n",
    "data.loc[data['model_type'] == 'general', 'model_type'] = 0\n",
    "data.loc[data['model_type'] == 'knowledge', 'model_type'] = 1\n",
    "mymap = sorted(list(set(data['model_name'])))\n",
    "for _, v in enumerate(mymap):\n",
    "\tdata.loc[data['model_name'] == v, 'model_name'] = mymap.index(v)"
   ]
  },
  {
   "cell_type": "code",
   "execution_count": 12,
   "metadata": {},
   "outputs": [],
   "source": [
    "# Turn continuous output values into discrete ones\n",
    "interval = (data['emissions'].max() - data['emissions'].min()) / 3\n",
    "low_bound = data['emissions'].min() + interval\n",
    "high_bound = data['emissions'].max() - interval\n",
    "\n",
    "data_class = data.copy()\n",
    "data_class.loc[data_class['emissions'] >= high_bound, 'emissions'] = 2\n",
    "data_class.loc[(data_class['emissions'] > low_bound) & (data_class['emissions'] < high_bound), 'emissions'] = 1\n",
    "data_class.loc[data_class['emissions'] <= low_bound, 'emissions'] = 0"
   ]
  },
  {
   "cell_type": "code",
   "execution_count": 13,
   "metadata": {},
   "outputs": [
    {
     "data": {
      "text/plain": [
       "emissions\n",
       "0.0    104\n",
       "1.0      5\n",
       "2.0      1\n",
       "Name: count, dtype: int64"
      ]
     },
     "execution_count": 13,
     "metadata": {},
     "output_type": "execute_result"
    }
   ],
   "source": [
    "data_class.emissions.value_counts()"
   ]
  },
  {
   "cell_type": "code",
   "execution_count": 20,
   "metadata": {},
   "outputs": [
    {
     "data": {
      "image/png": "[encoded data removed]",
      "text/plain": [
       "<Figure size 1800x800 with 1 Axes>"
      ]
     },
     "metadata": {},
     "output_type": "display_data"
    }
   ],
   "source": [
    "fig, axs = plt.subplots(1, 1, figsize=(18, 8))\n",
    "axs.scatter(range(len(data['emissions'])), data['emissions'], s=80)\n",
    "axs.hlines(low_bound, 0, len(data['emissions']), colors='r')\n",
    "axs.hlines(high_bound, 0, len(data['emissions']), colors='r')\n",
    "axs.set_title('Emissions by models', fontsize=18)\n",
    "axs.set_xlabel('Models', fontsize=14)\n",
    "axs.set_ylabel('Emissions (g)', fontsize=14)\n",
    "fig.tight_layout()\n",
    "plt.show()"
   ]
  },
  {
   "cell_type": "markdown",
   "metadata": {},
   "source": [
    "## Models definition"
   ]
  },
  {
   "cell_type": "code",
   "execution_count": 21,
   "metadata": {},
   "outputs": [],
   "source": [
    "X = data.loc[:, data.columns != 'emissions']\n",
    "y = data[['emissions']]\n",
    "X_train, X_test, y_train, y_test = train_test_split(\n",
    "    X.values.astype('float64'),\n",
    "    y.values.astype('float64'),\n",
    "    train_size = .8,\n",
    "    test_size = .2,\n",
    "    random_state = 2,\n",
    "    shuffle = True\n",
    ")\n",
    "y_train = y_train.reshape(len(y_train),)\n",
    "y_test = y_test.reshape(len(y_test),)"
   ]
  },
  {
   "cell_type": "code",
   "execution_count": 23,
   "metadata": {},
   "outputs": [
    {
     "name": "stdout",
     "output_type": "stream",
     "text": [
      "> > > > > > > > > > > > > > > > > > > > > > > > > > > > > > > > > > > \n",
      "\n",
      "REGRESSOR                MAE              RMSE              MSLE\n",
      "\n",
      "> > > > > > > > > > > > > > > > > > > > > > > > > > > > > > > > > > > \n",
      "\n",
      "SVR                 0.0158222         0.0002645         0.0002596\n",
      "\n",
      "DECISION TREE       0.0019316         0.0000194         0.0000191\n",
      "\n",
      "RANDOM FOREST       0.0018775         0.0000185         0.0000182\n",
      "\n",
      "ADABOOST            0.0032942         0.0000198         0.0000195\n"
     ]
    }
   ],
   "source": [
    "print(''.join(['> ' for i in range(35)]))\n",
    "print(f'\\n{\"REGRESSOR\":<20}{\"MAE\":>8}{\"RMSE\":>18}{\"MSLE\":>18}\\n')\n",
    "print(''.join(['> ' for i in range(35)]))\n",
    "\n",
    "model = SVR()\n",
    "model.fit(X_train, y_train)\n",
    "pred = model.predict(X_test)\n",
    "mae = mean_absolute_error(pred, y_test)\n",
    "rmse = mean_squared_error(pred, y_test)\n",
    "msle = mean_squared_log_error(pred, y_test)\n",
    "print(f'\\n{\"SVR\":<20}{mae:>8.7f}{rmse:>18.7f}{msle:>18.7f}')\n",
    "\n",
    "model = DecisionTreeRegressor(max_depth=5, random_state=3)\n",
    "model.fit(X_train, y_train)\n",
    "pred = model.predict(X_test)\n",
    "mae = mean_absolute_error(pred, y_test)\n",
    "rmse = mean_squared_error(pred, y_test)\n",
    "msle = mean_squared_log_error(pred, y_test)\n",
    "print(f'\\n{\"DECISION TREE\":<20}{mae:>8.7f}{rmse:>18.7f}{msle:>18.7f}')\n",
    "\n",
    "model = RandomForestRegressor(n_estimators=500, max_depth=5, random_state=3)\n",
    "model.fit(X_train, y_train)\n",
    "pred = model.predict(X_test)\n",
    "mae = mean_absolute_error(pred, y_test)\n",
    "rmse = mean_squared_error(pred, y_test)\n",
    "msle = mean_squared_log_error(pred, y_test)\n",
    "print(f'\\n{\"RANDOM FOREST\":<20}{mae:>8.7f}{rmse:>18.7f}{msle:>18.7f}')\n",
    "\n",
    "model = AdaBoostRegressor(n_estimators=500, random_state=3)\n",
    "model.fit(X_train, y_train)\n",
    "pred = model.predict(X_test)\n",
    "mae = mean_absolute_error(pred, y_test)\n",
    "rmse = mean_squared_error(pred, y_test)\n",
    "msle = mean_squared_log_error(pred, y_test)\n",
    "print(f'\\n{\"ADABOOST\":<20}{mae:>8.7f}{rmse:>18.7f}{msle:>18.7f}')"
   ]
  }
 ],
 "metadata": {
  "kernelspec": {
   "display_name": "Python 3",
   "language": "python",
   "name": "python3"
  },
  "language_info": {
   "codemirror_mode": {
    "name": "ipython",
    "version": 3
   },
   "file_extension": ".py",
   "mimetype": "text/x-python",
   "name": "python",
   "nbconvert_exporter": "python",
   "pygments_lexer": "ipython3",
   "version": "3.11.4"
  }
 },
 "nbformat": 4,
 "nbformat_minor": 2
}
