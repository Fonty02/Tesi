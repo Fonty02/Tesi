{
 "cells": [
  {
   "cell_type": "markdown",
   "metadata": {},
   "source": [
    "## Settings"
   ]
  },
  {
   "cell_type": "code",
   "execution_count": 1,
   "metadata": {},
   "outputs": [],
   "source": [
    "import warnings\n",
    "import os\n",
    "import sys\n",
    "from sys import platform\n",
    "import pandas as pd\n",
    "import matplotlib.pyplot as plt\n",
    "import numpy as np\n",
    "BASE_PATH = '\\\\'.join(os.getcwd().split('\\\\')[:-1]) + '\\\\' if platform == 'win32' else '/'.join(os.getcwd().split('/')[:-1]) + '/'\n",
    "sys.path.append(BASE_PATH+'\\src' if platform == 'win32' else BASE_PATH+'/src')\n",
    "from config.global_config import get_global_config\n",
    "from utils import get_ds_statistics, get_model_type\n",
    "\n",
    "from sklearn.model_selection import train_test_split\n",
    "from sklearn.tree import DecisionTreeRegressor, DecisionTreeClassifier\n",
    "from sklearn.ensemble import RandomForestRegressor, AdaBoostRegressor, RandomForestClassifier, AdaBoostClassifier\n",
    "from sklearn.svm import SVR, SVC\n",
    "from sklearn.metrics import mean_absolute_error, mean_squared_error, mean_squared_log_error, accuracy_score, precision_score, recall_score, f1_score"
   ]
  },
  {
   "cell_type": "code",
   "execution_count": 5,
   "metadata": {},
   "outputs": [
    {
     "name": "stdout",
     "output_type": "stream",
     "text": [
      "class\n",
      "0    188.632313\n",
      "2     66.760506\n",
      "Name: percentage_error, dtype: float64\n",
      "class\n",
      "0    103.151553\n",
      "1     61.700139\n",
      "Name: percentage_error, dtype: float64\n",
      "class\n",
      "0    1723.950139\n",
      "1      51.972755\n",
      "2      41.230920\n",
      "Name: percentage_error, dtype: float64\n"
     ]
    }
   ],
   "source": [
    "def moltiplica(path):\n",
    "    dataset=pd.read_csv(path)\n",
    "    #multiply every value of the column percentage_error by 100\n",
    "    dataset['percentage_error'] *= 100\n",
    "    #save\n",
    "    dataset.to_csv(path, index=False)\n",
    "    #print mean of the column grouping by column class\n",
    "    print(dataset.groupby('class')['percentage_error'].mean())\n",
    "\n",
    "moltiplica(\"data/datasetAzure_RandomForest.csv\")\n",
    "moltiplica(\"data/datasetAzureRidotto_RandomForest.csv\")\n",
    "moltiplica(\"data/datasetRidotto_RandomForest.csv\")"
   ]
  },
  {
   "cell_type": "code",
   "execution_count": 2,
   "metadata": {},
   "outputs": [],
   "source": [
    "_config = get_global_config()\n",
    "\n",
    "DATA_PATH = os.path.join(BASE_PATH, _config.get('DATASET_PATH'))\n",
    "RESULTS_PATH = os.path.join(BASE_PATH, _config.get('RESULT_PATH_SHARED'))\n",
    "DATASET_FILE = os.path.join(BASE_PATH, _config.get('DATASET_FILE'))\n",
    "DATASET_AZURE_FILE = os.path.join(BASE_PATH, _config.get('DATASETAZURE_FILE'))\n",
    "if platform == 'win32':\n",
    "\tDATA_PATH = DATA_PATH.replace('/', '\\\\')\n",
    "\tRESULTS_PATH = RESULTS_PATH.replace('/', '\\\\')\n",
    "\tDATASET_FILE = DATASET_FILE.replace('/', '\\\\')\n",
    "\tDATASET_AZURE_FILE = DATASET_AZURE_FILE.replace('/', '\\\\')\n",
    "EMISSIONS_FILE = 'emissions.csv'\n",
    "METRICS_FILE = 'metrics.csv'\n",
    "PARAMS_FILE = 'params.csv'"
   ]
  },
  {
   "cell_type": "code",
   "execution_count": 43,
   "metadata": {},
   "outputs": [],
   "source": [
    "data = pd.DataFrame({\n",
    "\t# Related to dataset\n",
    "    'n_users': [],\n",
    "    'n_items': [],\n",
    "    'n_inter': [],\n",
    "    'sparsity': [],\n",
    "\n",
    "    # Related to KG dataset\n",
    "\t'kg_entities': [],\n",
    "\t'kg_relations': [],\n",
    "\t'kg_triples': [],\n",
    "\t'kg_items': [],\n",
    "\n",
    "\t# Related to hardware\n",
    "    'cpu_cores': [],\n",
    "    'ram_size': [],\n",
    "    'is_gpu': [],\n",
    "\n",
    "\t# Related to model\n",
    "\t'model_name': [],\n",
    "    'model_type': [],\n",
    "    \n",
    "\n",
    "\t# Label\n",
    "\t'emissions': []\n",
    "})"
   ]
  },
  {
   "cell_type": "markdown",
   "metadata": {},
   "source": [
    "## Features extraction"
   ]
  },
  {
   "cell_type": "code",
   "execution_count": 44,
   "metadata": {},
   "outputs": [],
   "source": [
    "experiments = []\n",
    "for d in next(os.walk(RESULTS_PATH))[1]:\n",
    "\tfor m in next(os.walk(RESULTS_PATH + d))[1]:\n",
    "\t\texperiments.append(os.path.join(d, m))\n",
    "experiments = sorted(experiments)"
   ]
  },
  {
   "cell_type": "code",
   "execution_count": 45,
   "metadata": {},
   "outputs": [],
   "source": [
    "for i, v in enumerate(experiments):\n",
    "\te = pd.read_csv(os.path.join(RESULTS_PATH, v, EMISSIONS_FILE))\n",
    "\n",
    "\te = e[e['country_iso_code'] == 'NLD']\n",
    " \n",
    "\tdataset = v.split(\"/\")[0]\n",
    "\tmodel = v.split(\"/\")[1]\n",
    "\tstats = get_ds_statistics(os.path.join(DATA_PATH, dataset))\n",
    "\tfor _, row in e.iterrows():\n",
    "\t\tdata.loc[len(data)] = [\n",
    "\t\t\tstats['n_users'],\n",
    "\t\t\tstats['n_items'],\n",
    "\t\t\tstats['n_inter'],\n",
    "\t\t\tstats['sparsity'],\n",
    "\t\t\tstats['kg_entities'],\n",
    "\t\t\tstats['kg_relations'],\n",
    "\t\t\tstats['kg_triples'],\n",
    "\t\t\tstats['kg_items'],\n",
    "\t\t\trow['cpu_count'],\n",
    "\t\t\trow['ram_total_size'],\n",
    "\t\t\trow['gpu_count'] if row['gpu_count'] == 1. else .0,\n",
    "\t\t\tmodel,\n",
    "\t\t\tget_model_type(model),\n",
    "\t\t\trow['emissions'],\n",
    "\t\t]"
   ]
  },
  {
   "cell_type": "code",
   "execution_count": 135,
   "metadata": {},
   "outputs": [
    {
     "data": {
      "text/html": [
       "<div>\n",
       "<style scoped>\n",
       "    .dataframe tbody tr th:only-of-type {\n",
       "        vertical-align: middle;\n",
       "    }\n",
       "\n",
       "    .dataframe tbody tr th {\n",
       "        vertical-align: top;\n",
       "    }\n",
       "\n",
       "    .dataframe thead th {\n",
       "        text-align: right;\n",
       "    }\n",
       "</style>\n",
       "<table border=\"1\" class=\"dataframe\">\n",
       "  <thead>\n",
       "    <tr style=\"text-align: right;\">\n",
       "      <th></th>\n",
       "      <th>n_users</th>\n",
       "      <th>n_items</th>\n",
       "      <th>n_inter</th>\n",
       "      <th>sparsity</th>\n",
       "      <th>kg_entities</th>\n",
       "      <th>kg_relations</th>\n",
       "      <th>kg_triples</th>\n",
       "      <th>kg_items</th>\n",
       "      <th>cpu_cores</th>\n",
       "      <th>ram_size</th>\n",
       "      <th>is_gpu</th>\n",
       "      <th>model_name</th>\n",
       "      <th>model_type</th>\n",
       "      <th>emissions</th>\n",
       "    </tr>\n",
       "  </thead>\n",
       "  <tbody>\n",
       "    <tr>\n",
       "      <th>192</th>\n",
       "      <td>6040</td>\n",
       "      <td>3706</td>\n",
       "      <td>1000209</td>\n",
       "      <td>0.955316</td>\n",
       "      <td>79347</td>\n",
       "      <td>49</td>\n",
       "      <td>385923</td>\n",
       "      <td>3655</td>\n",
       "      <td>12</td>\n",
       "      <td>64.000000</td>\n",
       "      <td>1.0</td>\n",
       "      <td>11</td>\n",
       "      <td>0</td>\n",
       "      <td>0.001356</td>\n",
       "    </tr>\n",
       "    <tr>\n",
       "      <th>314</th>\n",
       "      <td>23679</td>\n",
       "      <td>4414</td>\n",
       "      <td>1048575</td>\n",
       "      <td>0.989968</td>\n",
       "      <td>0</td>\n",
       "      <td>0</td>\n",
       "      <td>0</td>\n",
       "      <td>0</td>\n",
       "      <td>4</td>\n",
       "      <td>27.405815</td>\n",
       "      <td>1.0</td>\n",
       "      <td>BPR</td>\n",
       "      <td>general</td>\n",
       "      <td>0.004162</td>\n",
       "    </tr>\n",
       "    <tr>\n",
       "      <th>77</th>\n",
       "      <td>22155</td>\n",
       "      <td>54458</td>\n",
       "      <td>1465871</td>\n",
       "      <td>0.998785</td>\n",
       "      <td>26315</td>\n",
       "      <td>16</td>\n",
       "      <td>96476</td>\n",
       "      <td>11446</td>\n",
       "      <td>12</td>\n",
       "      <td>64.000000</td>\n",
       "      <td>1.0</td>\n",
       "      <td>16</td>\n",
       "      <td>1</td>\n",
       "      <td>0.000956</td>\n",
       "    </tr>\n",
       "    <tr>\n",
       "      <th>185</th>\n",
       "      <td>6040</td>\n",
       "      <td>3706</td>\n",
       "      <td>1000209</td>\n",
       "      <td>0.955316</td>\n",
       "      <td>79347</td>\n",
       "      <td>49</td>\n",
       "      <td>385923</td>\n",
       "      <td>3655</td>\n",
       "      <td>4</td>\n",
       "      <td>27.405815</td>\n",
       "      <td>1.0</td>\n",
       "      <td>7</td>\n",
       "      <td>0</td>\n",
       "      <td>0.001998</td>\n",
       "    </tr>\n",
       "    <tr>\n",
       "      <th>279</th>\n",
       "      <td>19841</td>\n",
       "      <td>33653</td>\n",
       "      <td>440620</td>\n",
       "      <td>0.999340</td>\n",
       "      <td>42031</td>\n",
       "      <td>5</td>\n",
       "      <td>38491</td>\n",
       "      <td>816701</td>\n",
       "      <td>4</td>\n",
       "      <td>27.405804</td>\n",
       "      <td>1.0</td>\n",
       "      <td>CFKG</td>\n",
       "      <td>knowledge</td>\n",
       "      <td>0.004978</td>\n",
       "    </tr>\n",
       "  </tbody>\n",
       "</table>\n",
       "</div>"
      ],
      "text/plain": [
       "     n_users  n_items  n_inter  sparsity  kg_entities  kg_relations  \\\n",
       "192     6040     3706  1000209  0.955316        79347            49   \n",
       "314    23679     4414  1048575  0.989968            0             0   \n",
       "77     22155    54458  1465871  0.998785        26315            16   \n",
       "185     6040     3706  1000209  0.955316        79347            49   \n",
       "279    19841    33653   440620  0.999340        42031             5   \n",
       "\n",
       "     kg_triples  kg_items  cpu_cores   ram_size  is_gpu model_name model_type  \\\n",
       "192      385923      3655         12  64.000000     1.0         11          0   \n",
       "314           0         0          4  27.405815     1.0        BPR    general   \n",
       "77        96476     11446         12  64.000000     1.0         16          1   \n",
       "185      385923      3655          4  27.405815     1.0          7          0   \n",
       "279       38491    816701          4  27.405804     1.0       CFKG  knowledge   \n",
       "\n",
       "     emissions  \n",
       "192   0.001356  \n",
       "314   0.004162  \n",
       "77    0.000956  \n",
       "185   0.001998  \n",
       "279   0.004978  "
      ]
     },
     "execution_count": 135,
     "metadata": {},
     "output_type": "execute_result"
    }
   ],
   "source": [
    "data.sample(n=5)"
   ]
  },
  {
   "cell_type": "code",
   "execution_count": 46,
   "metadata": {},
   "outputs": [
    {
     "name": "stdout",
     "output_type": "stream",
     "text": [
      "<class 'pandas.core.frame.DataFrame'>\n",
      "Index: 91 entries, 0 to 90\n",
      "Data columns (total 14 columns):\n",
      " #   Column        Non-Null Count  Dtype  \n",
      "---  ------        --------------  -----  \n",
      " 0   n_users       91 non-null     int64  \n",
      " 1   n_items       91 non-null     int64  \n",
      " 2   n_inter       91 non-null     int64  \n",
      " 3   sparsity      91 non-null     float64\n",
      " 4   kg_entities   91 non-null     int64  \n",
      " 5   kg_relations  91 non-null     int64  \n",
      " 6   kg_triples    91 non-null     int64  \n",
      " 7   kg_items      91 non-null     int64  \n",
      " 8   cpu_cores     91 non-null     int64  \n",
      " 9   ram_size      91 non-null     float64\n",
      " 10  is_gpu        91 non-null     float64\n",
      " 11  model_name    91 non-null     object \n",
      " 12  model_type    91 non-null     object \n",
      " 13  emissions     91 non-null     float64\n",
      "dtypes: float64(4), int64(8), object(2)\n",
      "memory usage: 10.7+ KB\n"
     ]
    }
   ],
   "source": [
    "data.info()"
   ]
  },
  {
   "cell_type": "code",
   "execution_count": 47,
   "metadata": {},
   "outputs": [],
   "source": [
    "# UNCOMMENT TO SAVE CSV DATASET\n",
    "#if not os.path.isfile(DATASET_FILE):\n",
    " #\tos.unlink(DATASET_FILE)\n",
    "data.to_csv(DATASET_AZURE_FILE, index=False, encoding='utf-8')"
   ]
  },
  {
   "cell_type": "markdown",
   "metadata": {},
   "source": [
    "## Preprocessing"
   ]
  },
  {
   "cell_type": "code",
   "execution_count": 149,
   "metadata": {},
   "outputs": [
    {
     "name": "stdout",
     "output_type": "stream",
     "text": [
      "<class 'pandas.core.frame.DataFrame'>\n",
      "Index: 83 entries, 0 to 90\n",
      "Data columns (total 14 columns):\n",
      " #   Column        Non-Null Count  Dtype  \n",
      "---  ------        --------------  -----  \n",
      " 0   n_users       83 non-null     int64  \n",
      " 1   n_items       83 non-null     int64  \n",
      " 2   n_inter       83 non-null     int64  \n",
      " 3   sparsity      83 non-null     float64\n",
      " 4   kg_entities   83 non-null     int64  \n",
      " 5   kg_relations  83 non-null     int64  \n",
      " 6   kg_triples    83 non-null     int64  \n",
      " 7   kg_items      83 non-null     int64  \n",
      " 8   cpu_cores     83 non-null     int64  \n",
      " 9   ram_size      83 non-null     float64\n",
      " 10  is_gpu        83 non-null     float64\n",
      " 11  model_name    83 non-null     object \n",
      " 12  model_type    83 non-null     object \n",
      " 13  emissions     83 non-null     float64\n",
      "dtypes: float64(4), int64(8), object(2)\n",
      "memory usage: 9.7+ KB\n"
     ]
    }
   ],
   "source": [
    "data = pd.read_csv(DATASET_AZURE_FILE ,encoding='utf-8')\n",
    "#sort data by emissions in ascending order\n",
    "data = data.sort_values(by='emissions')\n",
    "data = data.iloc[:-8]\n",
    "data = data.sort_index()\n",
    "\n",
    "data.info()\n"
   ]
  },
  {
   "cell_type": "code",
   "execution_count": 150,
   "metadata": {},
   "outputs": [
    {
     "name": "stdout",
     "output_type": "stream",
     "text": [
      "n_users: [19841 22155 23679 50000  6040]\n",
      "n_items: [42457 24878 33653 38932 54458  4414 10000  3706]\n",
      "n_inter: [ 900212  218457  440620  667850 1465871 1048575 7053774 1000209]\n",
      "sparsity: [0.99893136 0.99955742 0.9993401  0.99913541 0.99878504 0.98996762\n",
      " 0.98589245 0.95531637]\n",
      "kg_entities: [ 50665  32907  42031  47308  26315      0 175646  79347]\n",
      "kg_relations: [ 5 16  0 31 49]\n",
      "kg_triples: [ 46827  29822  38491  43559  96476      0 521125 385923]\n",
      "kg_items: [816701  11446      0  10601   3655]\n",
      "cpu_cores: [4]\n",
      "ram_size: [27.40580368 27.40581512]\n",
      "is_gpu: [1.]\n",
      "model_name: ['BPR' 'CFKG' 'CKE' 'DMF' 'ItemKNN' 'KGCN' 'KGNNLS' 'LINE' 'MultiDAE'\n",
      " 'NGCF' 'RippleNet' 'DGCF' 'LightGCN' 'SpectralCF' 'FISM']\n",
      "model_type: ['general' 'knowledge']\n",
      "emissions: [0.02167647 0.00621881 0.01547711 0.01087793 0.00665498 0.02767032\n",
      " 0.02828943 0.00708359 0.03272087 0.04938348 0.0219333  0.00372366\n",
      " 0.00304575 0.00456671 0.03949163 0.00478892 0.00189163 0.00993338\n",
      " 0.0101844  0.00322104 0.01666057 0.00864604 0.01220959 0.00455345\n",
      " 0.01549643 0.00497796 0.0108745  0.0117516  0.00382181 0.0221565\n",
      " 0.02304871 0.00475226 0.02778276 0.01660083 0.02420773 0.00759955\n",
      " 0.01843347 0.01076596 0.01745499 0.00956127 0.00550065 0.01912361\n",
      " 0.01950146 0.00737107 0.04822634 0.026008   0.02863403 0.01882932\n",
      " 0.00589294 0.00441082 0.00388621 0.00923699 0.00278702 0.01122016\n",
      " 0.0061328  0.01141868 0.01092535 0.01886098 0.00416186 0.00641163\n",
      " 0.00746946 0.00184502 0.00425341 0.00641749 0.00483427 0.00988219\n",
      " 0.04618188 0.04775523 0.04416148 0.00629637 0.02381541 0.06121324\n",
      " 0.00118729 0.00168089 0.00206551 0.00199811 0.00739601 0.00054984\n",
      " 0.00312299 0.00123339 0.00327791 0.00125025 0.00563265]\n"
     ]
    }
   ],
   "source": [
    "# Null values check\n",
    "data.isnull().any()\n",
    "\n",
    "for col in data.columns:\n",
    "    print(f'{col}: {data[col].unique()}')"
   ]
  },
  {
   "cell_type": "code",
   "execution_count": 151,
   "metadata": {},
   "outputs": [],
   "source": [
    "# Turn categorical features into numerical\n",
    "data.loc[data['model_type'] == 'general', 'model_type'] = 0\n",
    "data.loc[data['model_type'] == 'knowledge', 'model_type'] = 1\n",
    "mymap = sorted(list(set(data['model_name'])))\n",
    "for _, v in enumerate(mymap):\n",
    "\tdata.loc[data['model_name'] == v, 'model_name'] = mymap.index(v)\n"
   ]
  },
  {
   "cell_type": "code",
   "execution_count": 152,
   "metadata": {},
   "outputs": [],
   "source": [
    "# Turn continuous output values into discrete values\n",
    "interval = (data['emissions'].max() + data['emissions'].min()) / 3\n",
    "low_bound = data['emissions'].min() + interval\n",
    "#low_mid_bound = data['emissions'].min() + 2*interval\n",
    "high_bound = data['emissions'].max() - interval\n",
    "#high_mid_bound = data['emissions'].max() - 2*interval\n",
    "\n",
    "data_class = data.copy()\n",
    "#print(low_bound, low_mid_bound, high_mid_bound, high_bound)\n",
    "\n",
    "\n",
    "\n",
    "#data_class.loc[data_class['emissions'] >= high_bound, 'emissions'] = 2\n",
    "#data_class.loc[(data_class['emissions'] > low_bound) & (data_class['emissions'] < high_bound), 'emissions'] = 1\n",
    "#data_class.loc[data_class['emissions'] <= low_bound, 'emissions'] = 0\n",
    "\n",
    "\n",
    "data_class.loc[data_class['emissions'] >= high_bound, 'emissions'] = 2\n",
    "#data_class.loc[(data_class['emissions'] >= high_mid_bound) & (data_class['emissions'] < high_bound), 'emissions'] = 3\n",
    "#data_class.loc[(data_class['emissions'] >= low_mid_bound) & (data_class['emissions'] <high_mid_bound ), 'emissions'] = 2\n",
    "data_class.loc[(data_class['emissions'] >= low_bound) & (data_class['emissions'] < high_bound), 'emissions'] = 1\n",
    "data_class.loc[data_class['emissions'] < low_bound, 'emissions'] = 0"
   ]
  },
  {
   "cell_type": "code",
   "execution_count": 153,
   "metadata": {},
   "outputs": [
    {
     "data": {
      "text/plain": [
       "emissions\n",
       "0.0    64\n",
       "1.0    13\n",
       "2.0     6\n",
       "Name: count, dtype: int64"
      ]
     },
     "execution_count": 153,
     "metadata": {},
     "output_type": "execute_result"
    }
   ],
   "source": [
    "data_class.emissions.value_counts()"
   ]
  },
  {
   "cell_type": "code",
   "execution_count": 154,
   "metadata": {},
   "outputs": [
    {
     "data": {
      "image/png": "[encoded data removed]",
      "text/plain": [
       "<Figure size 1800x800 with 1 Axes>"
      ]
     },
     "metadata": {},
     "output_type": "display_data"
    }
   ],
   "source": [
    "fig, axs = plt.subplots(1, 1, figsize=(18, 8))\n",
    "axs.scatter(range(len(data['emissions'])), data['emissions'], s=80)\n",
    "axs.hlines(low_bound, 0, len(data['emissions']), colors='r')\n",
    "#axs.hlines(low_mid_bound, 0, len(data['emissions']), colors='r')\n",
    "#axs.hlines(high_mid_bound, 0, len(data['emissions']), colors='r')\n",
    "axs.hlines(high_bound, 0, len(data['emissions']), colors='r')\n",
    "axs.set_title('Emissions by models', fontsize=18)\n",
    "axs.set_xlabel('Models', fontsize=14)\n",
    "axs.set_ylabel('Emissions (g)', fontsize=14)\n",
    "fig.tight_layout()\n",
    "plt.show()"
   ]
  },
  {
   "cell_type": "markdown",
   "metadata": {},
   "source": [
    "## Models definition"
   ]
  },
  {
   "cell_type": "code",
   "execution_count": 155,
   "metadata": {},
   "outputs": [],
   "source": [
    "X = data.loc[:, data.columns != 'emissions']\n",
    "y = data[['emissions']]\n",
    "X_train, X_test, y_train, y_test = train_test_split(\n",
    "    X.values.astype('float64'),\n",
    "    y.values.astype('float64'),\n",
    "    train_size = .7,\n",
    "    test_size = .3,\n",
    "    random_state = 2,\n",
    "    shuffle = True\n",
    ")\n",
    "y_train = y_train.reshape(len(y_train),)\n",
    "y_test = y_test.reshape(len(y_test),)"
   ]
  },
  {
   "cell_type": "code",
   "execution_count": 156,
   "metadata": {},
   "outputs": [
    {
     "name": "stdout",
     "output_type": "stream",
     "text": [
      "> > > > > > > > > > > > > > > > > > > > > > > > > > > > > > > > > > > \n",
      "\n",
      "REGRESSOR                MAE              RMSE              MSLE\n",
      "\n",
      "> > > > > > > > > > > > > > > > > > > > > > > > > > > > > > > > > > > \n",
      "\n",
      "RANDOM FOREST       0.0079448         0.0001688         0.0001604\n"
     ]
    },
    {
     "data": {
      "image/png": "[encoded data removed]",
      "text/plain": [
       "<Figure size 640x480 with 1 Axes>"
      ]
     },
     "metadata": {},
     "output_type": "display_data"
    },
    {
     "data": {
      "text/plain": [
       "'\\nmodel_AdaBoost = AdaBoostRegressor(n_estimators=500, random_state=3)\\nmodel_AdaBoost.fit(X_train, y_train)\\npred = model_AdaBoost.predict(X_test)\\nmae = mean_absolute_error(pred, y_test)\\nrmse = mean_squared_error(pred, y_test)\\nmsle = mean_squared_log_error(pred, y_test)\\nprint(f\\'\\n{\"ADABOOST\":<20}{mae:>8.7f}{rmse:>18.7f}{msle:>18.7f}\\')\\n\\ntrain_sizes, train_scores, test_scores = learning_curve(model_AdaBoost, X_train, y_train, cv=10, scoring=\\'neg_mean_absolute_error\\')\\n\\ntrain_scores_mean = -np.mean(train_scores, axis=1)\\ntest_scores_mean = -np.mean(test_scores, axis=1)\\n\\nplt.figure()\\nplt.plot(train_sizes, train_scores_mean, \\'o-\\', color=\\'r\\', label=\\'Training error\\')\\nplt.plot(train_sizes, test_scores_mean, \\'o-\\', color=\\'g\\', label=\\'Validation error\\')\\nplt.xlabel(\\'Training examples\\')\\nplt.ylabel(\\'Mean Absolute Error\\')\\nplt.legend(loc=\\'best\\')\\nplt.title(\\'AdaBoost Learning Curves\\')\\nplt.show()'"
      ]
     },
     "execution_count": 156,
     "metadata": {},
     "output_type": "execute_result"
    }
   ],
   "source": [
    "print(''.join(['> ' for i in range(35)]))\n",
    "print(f'\\n{\"REGRESSOR\":<20}{\"MAE\":>8}{\"RMSE\":>18}{\"MSLE\":>18}\\n')\n",
    "print(''.join(['> ' for i in range(35)]))\n",
    "\n",
    "import matplotlib.pyplot as plt\n",
    "from sklearn.model_selection import learning_curve\n",
    "\"\"\"\n",
    "model_SVR = SVR()\n",
    "model_SVR.fit(X_train, y_train)\n",
    "pred = model_SVR.predict(X_test)\n",
    "mae = mean_absolute_error(pred, y_test)\n",
    "rmse = mean_squared_error(pred, y_test)\n",
    "msle = mean_squared_log_error(pred, y_test)\n",
    "print(f'\\n{\"SVR\":<20}{mae:>8.7f}{rmse:>18.7f}{msle:>18.7f}')\n",
    "\n",
    "\n",
    "\n",
    "\n",
    "\n",
    "train_sizes, train_scores, test_scores = learning_curve(model_SVR, X_train, y_train, cv=10, scoring='neg_mean_absolute_error')\n",
    "\n",
    "train_scores_mean = -np.mean(train_scores, axis=1)\n",
    "test_scores_mean = -np.mean(test_scores, axis=1)\n",
    "\n",
    "plt.figure()\n",
    "plt.plot(train_sizes, train_scores_mean, 'o-', color='r', label='Training error')\n",
    "plt.plot(train_sizes, test_scores_mean, 'o-', color='g', label='Validation error')\n",
    "plt.xlabel('Training examples')\n",
    "plt.ylabel('Mean Absolute Error')\n",
    "plt.legend(loc='best')\n",
    "plt.title('SVR Learning Curves')\n",
    "plt.show()\n",
    "\n",
    "\n",
    "\n",
    "model_DecisionTree = DecisionTreeRegressor(max_depth=5, random_state=3)\n",
    "model_DecisionTree.fit(X_train, y_train)\n",
    "pred = model_DecisionTree.predict(X_test)\n",
    "mae = mean_absolute_error(pred, y_test)\n",
    "rmse = mean_squared_error(pred, y_test)\n",
    "msle = mean_squared_log_error(pred, y_test)\n",
    "print(f'\\n{\"DECISION TREE\":<20}{mae:>8.7f}{rmse:>18.7f}{msle:>18.7f}')\n",
    "\n",
    "\n",
    "train_sizes, train_scores, test_scores = learning_curve(model_DecisionTree, X_train, y_train, cv=10, scoring='neg_mean_absolute_error')\n",
    "\n",
    "train_scores_mean = -np.mean(train_scores, axis=1)\n",
    "test_scores_mean = -np.mean(test_scores, axis=1)\n",
    "\n",
    "plt.figure()\n",
    "plt.plot(train_sizes, train_scores_mean, 'o-', color='r', label='Training error')\n",
    "plt.plot(train_sizes, test_scores_mean, 'o-', color='g', label='Validation error')\n",
    "plt.xlabel('Training examples')\n",
    "plt.ylabel('Mean Absolute Error')\n",
    "plt.legend(loc='best')\n",
    "plt.title('Decision Tree Learning Curves')\n",
    "plt.show()\"\"\"\n",
    "\n",
    "model_RandomForest = RandomForestRegressor(n_estimators=500, max_depth=5, random_state=3)\n",
    "model_RandomForest.fit(X_train, y_train)\n",
    "pred = model_RandomForest.predict(X_test)\n",
    "mae = mean_absolute_error(pred, y_test)\n",
    "rmse = mean_squared_error(pred, y_test)\n",
    "msle = mean_squared_log_error(pred, y_test)\n",
    "print(f'\\n{\"RANDOM FOREST\":<20}{mae:>8.7f}{rmse:>18.7f}{msle:>18.7f}')\n",
    "\n",
    "\n",
    "train_sizes, train_scores, test_scores = learning_curve(model_RandomForest, X_train, y_train, cv=10, scoring='neg_mean_absolute_error')\n",
    "\n",
    "train_scores_mean = -np.mean(train_scores, axis=1)\n",
    "test_scores_mean = -np.mean(test_scores, axis=1)\n",
    "\n",
    "plt.figure()\n",
    "plt.plot(train_sizes, train_scores_mean, 'o-', color='r', label='Training error')\n",
    "plt.plot(train_sizes, test_scores_mean, 'o-', color='g', label='Validation error')\n",
    "plt.xlabel('Training examples')\n",
    "plt.ylabel('Mean Absolute Error')\n",
    "plt.legend(loc='best')\n",
    "plt.title('Random Forest Learning Curves')\n",
    "plt.show()\n",
    "\n",
    "\"\"\"\n",
    "model_AdaBoost = AdaBoostRegressor(n_estimators=500, random_state=3)\n",
    "model_AdaBoost.fit(X_train, y_train)\n",
    "pred = model_AdaBoost.predict(X_test)\n",
    "mae = mean_absolute_error(pred, y_test)\n",
    "rmse = mean_squared_error(pred, y_test)\n",
    "msle = mean_squared_log_error(pred, y_test)\n",
    "print(f'\\n{\"ADABOOST\":<20}{mae:>8.7f}{rmse:>18.7f}{msle:>18.7f}')\n",
    "\n",
    "train_sizes, train_scores, test_scores = learning_curve(model_AdaBoost, X_train, y_train, cv=10, scoring='neg_mean_absolute_error')\n",
    "\n",
    "train_scores_mean = -np.mean(train_scores, axis=1)\n",
    "test_scores_mean = -np.mean(test_scores, axis=1)\n",
    "\n",
    "plt.figure()\n",
    "plt.plot(train_sizes, train_scores_mean, 'o-', color='r', label='Training error')\n",
    "plt.plot(train_sizes, test_scores_mean, 'o-', color='g', label='Validation error')\n",
    "plt.xlabel('Training examples')\n",
    "plt.ylabel('Mean Absolute Error')\n",
    "plt.legend(loc='best')\n",
    "plt.title('AdaBoost Learning Curves')\n",
    "plt.show()\"\"\"\n",
    "\n"
   ]
  },
  {
   "cell_type": "code",
   "execution_count": 124,
   "metadata": {},
   "outputs": [],
   "source": [
    "def calculateError(path,columnsName,X_test,y_test,model,low_bound,high_bound):\n",
    "    results = pd.DataFrame(columns=columnsName)\n",
    "    for i in range(len(columnsName)):\n",
    "        results[columnsName[i]] = X_test[:,i]\n",
    "    results['real_value'] = y_test\n",
    "    results['predicted_value'] = model.predict(X_test)\n",
    "    results['abs_error'] = abs(results['real_value'] - results['predicted_value'])\n",
    "    results['percentage_error'] = abs(results['abs_error']/results['real_value'])*100\n",
    "    results['class'] = 0\n",
    "    results.loc[results['real_value'] >= high_bound, 'class'] = 2\n",
    "    results.loc[(results['real_value'] >= low_bound) & (results['real_value'] < high_bound), 'class'] = 1\n",
    "    results.to_csv(path, index=False, encoding='utf-8')\n",
    "    return results\n",
    "    "
   ]
  },
  {
   "cell_type": "code",
   "execution_count": 125,
   "metadata": {},
   "outputs": [],
   "source": [
    "def calculateMeanError(path,low_bound,high_bound):\n",
    "    results = pd.read_csv(path,encoding='utf-8')\n",
    "    print(\"high_bound\",high_bound)\n",
    "    print(\"low_bound\",low_bound)\n",
    "    print(\"Number of samples for each class\")\n",
    "    print(results['class'].value_counts())\n",
    "    print(\"Mean of the percentage error for each class\")\n",
    "    print(results.groupby('class')['percentage_error'].mean())\n",
    "    print(\"Mean of the absolute error for each class\")\n",
    "    print(results.groupby('class')['abs_error'].mean())\n",
    "\n",
    "    "
   ]
  },
  {
   "cell_type": "code",
   "execution_count": 157,
   "metadata": {},
   "outputs": [
    {
     "name": "stdout",
     "output_type": "stream",
     "text": [
      "high_bound 0.04062554515063527\n",
      "low_bound 0.021137526211647432\n",
      "Number of samples for each class\n",
      "class\n",
      "0    20\n",
      "1     5\n",
      "Name: count, dtype: int64\n",
      "Mean of the percentage error for each class\n",
      "class\n",
      "0    1.031516\n",
      "1    0.617001\n",
      "Name: percentage_error, dtype: float64\n",
      "Mean of the absolute error for each class\n",
      "class\n",
      "0    0.005607\n",
      "1    0.017295\n",
      "Name: abs_error, dtype: float64\n"
     ]
    }
   ],
   "source": [
    "columns=data.columns\n",
    "columns=columns.drop('emissions')\n",
    "calculateError(\"data/datasetAzureRidotto_RandomForest.csv\",columns,X_test,y_test,model_RandomForest,low_bound,high_bound)\n",
    "calculateMeanError(\"data/datasetAzureRidotto_RandomForest.csv\",low_bound,high_bound)\n"
   ]
  },
  {
   "cell_type": "code",
   "execution_count": 26,
   "metadata": {},
   "outputs": [
    {
     "ename": "ValueError",
     "evalue": "The least populated class in y has only 1 member, which is too few. The minimum number of groups for any class cannot be less than 2.",
     "output_type": "error",
     "traceback": [
      "\u001b[0;31m---------------------------------------------------------------------------\u001b[0m",
      "\u001b[0;31mValueError\u001b[0m                                Traceback (most recent call last)",
      "Cell \u001b[0;32mIn[26], line 3\u001b[0m\n\u001b[1;32m      1\u001b[0m X \u001b[38;5;241m=\u001b[39m data_class\u001b[38;5;241m.\u001b[39mloc[:, data_class\u001b[38;5;241m.\u001b[39mcolumns \u001b[38;5;241m!=\u001b[39m \u001b[38;5;124m'\u001b[39m\u001b[38;5;124memissions\u001b[39m\u001b[38;5;124m'\u001b[39m]\n\u001b[1;32m      2\u001b[0m y \u001b[38;5;241m=\u001b[39m data_class[[\u001b[38;5;124m'\u001b[39m\u001b[38;5;124memissions\u001b[39m\u001b[38;5;124m'\u001b[39m]]\n\u001b[0;32m----> 3\u001b[0m X_train, X_test, y_train, y_test \u001b[38;5;241m=\u001b[39m \u001b[43mtrain_test_split\u001b[49m\u001b[43m(\u001b[49m\n\u001b[1;32m      4\u001b[0m \u001b[43m    \u001b[49m\u001b[43mX\u001b[49m\u001b[38;5;241;43m.\u001b[39;49m\u001b[43mvalues\u001b[49m\u001b[38;5;241;43m.\u001b[39;49m\u001b[43mastype\u001b[49m\u001b[43m(\u001b[49m\u001b[38;5;124;43m'\u001b[39;49m\u001b[38;5;124;43mfloat64\u001b[39;49m\u001b[38;5;124;43m'\u001b[39;49m\u001b[43m)\u001b[49m\u001b[43m,\u001b[49m\n\u001b[1;32m      5\u001b[0m \u001b[43m    \u001b[49m\u001b[43my\u001b[49m\u001b[38;5;241;43m.\u001b[39;49m\u001b[43mvalues\u001b[49m\u001b[38;5;241;43m.\u001b[39;49m\u001b[43mastype\u001b[49m\u001b[43m(\u001b[49m\u001b[38;5;124;43m'\u001b[39;49m\u001b[38;5;124;43mfloat64\u001b[39;49m\u001b[38;5;124;43m'\u001b[39;49m\u001b[43m)\u001b[49m\u001b[43m,\u001b[49m\n\u001b[1;32m      6\u001b[0m \u001b[43m    \u001b[49m\u001b[43mtrain_size\u001b[49m\u001b[43m \u001b[49m\u001b[38;5;241;43m=\u001b[39;49m\u001b[43m \u001b[49m\u001b[38;5;241;43m.7\u001b[39;49m\u001b[43m,\u001b[49m\n\u001b[1;32m      7\u001b[0m \u001b[43m    \u001b[49m\u001b[43mtest_size\u001b[49m\u001b[43m \u001b[49m\u001b[38;5;241;43m=\u001b[39;49m\u001b[43m \u001b[49m\u001b[38;5;241;43m.3\u001b[39;49m\u001b[43m,\u001b[49m\n\u001b[1;32m      8\u001b[0m \u001b[43m    \u001b[49m\u001b[43mrandom_state\u001b[49m\u001b[43m \u001b[49m\u001b[38;5;241;43m=\u001b[39;49m\u001b[43m \u001b[49m\u001b[38;5;241;43m2\u001b[39;49m\u001b[43m,\u001b[49m\n\u001b[1;32m      9\u001b[0m \u001b[43m    \u001b[49m\u001b[43mshuffle\u001b[49m\u001b[43m \u001b[49m\u001b[38;5;241;43m=\u001b[39;49m\u001b[43m \u001b[49m\u001b[38;5;28;43;01mTrue\u001b[39;49;00m\u001b[43m,\u001b[49m\n\u001b[1;32m     10\u001b[0m \u001b[43m\t\u001b[49m\u001b[43mstratify\u001b[49m\u001b[38;5;241;43m=\u001b[39;49m\u001b[43my\u001b[49m\n\u001b[1;32m     11\u001b[0m \u001b[43m)\u001b[49m\n\u001b[1;32m     12\u001b[0m y_train \u001b[38;5;241m=\u001b[39m y_train\u001b[38;5;241m.\u001b[39mreshape(\u001b[38;5;28mlen\u001b[39m(y_train),)\n\u001b[1;32m     13\u001b[0m y_test \u001b[38;5;241m=\u001b[39m y_test\u001b[38;5;241m.\u001b[39mreshape(\u001b[38;5;28mlen\u001b[39m(y_test),)\n",
      "File \u001b[0;32m/anaconda/envs/azureml_py38/lib/python3.8/site-packages/sklearn/utils/_param_validation.py:214\u001b[0m, in \u001b[0;36mvalidate_params.<locals>.decorator.<locals>.wrapper\u001b[0;34m(*args, **kwargs)\u001b[0m\n\u001b[1;32m    208\u001b[0m \u001b[38;5;28;01mtry\u001b[39;00m:\n\u001b[1;32m    209\u001b[0m     \u001b[38;5;28;01mwith\u001b[39;00m config_context(\n\u001b[1;32m    210\u001b[0m         skip_parameter_validation\u001b[38;5;241m=\u001b[39m(\n\u001b[1;32m    211\u001b[0m             prefer_skip_nested_validation \u001b[38;5;129;01mor\u001b[39;00m global_skip_validation\n\u001b[1;32m    212\u001b[0m         )\n\u001b[1;32m    213\u001b[0m     ):\n\u001b[0;32m--> 214\u001b[0m         \u001b[38;5;28;01mreturn\u001b[39;00m \u001b[43mfunc\u001b[49m\u001b[43m(\u001b[49m\u001b[38;5;241;43m*\u001b[39;49m\u001b[43margs\u001b[49m\u001b[43m,\u001b[49m\u001b[43m \u001b[49m\u001b[38;5;241;43m*\u001b[39;49m\u001b[38;5;241;43m*\u001b[39;49m\u001b[43mkwargs\u001b[49m\u001b[43m)\u001b[49m\n\u001b[1;32m    215\u001b[0m \u001b[38;5;28;01mexcept\u001b[39;00m InvalidParameterError \u001b[38;5;28;01mas\u001b[39;00m e:\n\u001b[1;32m    216\u001b[0m     \u001b[38;5;66;03m# When the function is just a wrapper around an estimator, we allow\u001b[39;00m\n\u001b[1;32m    217\u001b[0m     \u001b[38;5;66;03m# the function to delegate validation to the estimator, but we replace\u001b[39;00m\n\u001b[1;32m    218\u001b[0m     \u001b[38;5;66;03m# the name of the estimator by the name of the function in the error\u001b[39;00m\n\u001b[1;32m    219\u001b[0m     \u001b[38;5;66;03m# message to avoid confusion.\u001b[39;00m\n\u001b[1;32m    220\u001b[0m     msg \u001b[38;5;241m=\u001b[39m re\u001b[38;5;241m.\u001b[39msub(\n\u001b[1;32m    221\u001b[0m         \u001b[38;5;124mr\u001b[39m\u001b[38;5;124m\"\u001b[39m\u001b[38;5;124mparameter of \u001b[39m\u001b[38;5;124m\\\u001b[39m\u001b[38;5;124mw+ must be\u001b[39m\u001b[38;5;124m\"\u001b[39m,\n\u001b[1;32m    222\u001b[0m         \u001b[38;5;124mf\u001b[39m\u001b[38;5;124m\"\u001b[39m\u001b[38;5;124mparameter of \u001b[39m\u001b[38;5;132;01m{\u001b[39;00mfunc\u001b[38;5;241m.\u001b[39m\u001b[38;5;18m__qualname__\u001b[39m\u001b[38;5;132;01m}\u001b[39;00m\u001b[38;5;124m must be\u001b[39m\u001b[38;5;124m\"\u001b[39m,\n\u001b[1;32m    223\u001b[0m         \u001b[38;5;28mstr\u001b[39m(e),\n\u001b[1;32m    224\u001b[0m     )\n",
      "File \u001b[0;32m/anaconda/envs/azureml_py38/lib/python3.8/site-packages/sklearn/model_selection/_split.py:2670\u001b[0m, in \u001b[0;36mtrain_test_split\u001b[0;34m(test_size, train_size, random_state, shuffle, stratify, *arrays)\u001b[0m\n\u001b[1;32m   2666\u001b[0m         CVClass \u001b[38;5;241m=\u001b[39m ShuffleSplit\n\u001b[1;32m   2668\u001b[0m     cv \u001b[38;5;241m=\u001b[39m CVClass(test_size\u001b[38;5;241m=\u001b[39mn_test, train_size\u001b[38;5;241m=\u001b[39mn_train, random_state\u001b[38;5;241m=\u001b[39mrandom_state)\n\u001b[0;32m-> 2670\u001b[0m     train, test \u001b[38;5;241m=\u001b[39m \u001b[38;5;28;43mnext\u001b[39;49m\u001b[43m(\u001b[49m\u001b[43mcv\u001b[49m\u001b[38;5;241;43m.\u001b[39;49m\u001b[43msplit\u001b[49m\u001b[43m(\u001b[49m\u001b[43mX\u001b[49m\u001b[38;5;241;43m=\u001b[39;49m\u001b[43marrays\u001b[49m\u001b[43m[\u001b[49m\u001b[38;5;241;43m0\u001b[39;49m\u001b[43m]\u001b[49m\u001b[43m,\u001b[49m\u001b[43m \u001b[49m\u001b[43my\u001b[49m\u001b[38;5;241;43m=\u001b[39;49m\u001b[43mstratify\u001b[49m\u001b[43m)\u001b[49m\u001b[43m)\u001b[49m\n\u001b[1;32m   2672\u001b[0m \u001b[38;5;28;01mreturn\u001b[39;00m \u001b[38;5;28mlist\u001b[39m(\n\u001b[1;32m   2673\u001b[0m     chain\u001b[38;5;241m.\u001b[39mfrom_iterable(\n\u001b[1;32m   2674\u001b[0m         (_safe_indexing(a, train), _safe_indexing(a, test)) \u001b[38;5;28;01mfor\u001b[39;00m a \u001b[38;5;129;01min\u001b[39;00m arrays\n\u001b[1;32m   2675\u001b[0m     )\n\u001b[1;32m   2676\u001b[0m )\n",
      "File \u001b[0;32m/anaconda/envs/azureml_py38/lib/python3.8/site-packages/sklearn/model_selection/_split.py:1746\u001b[0m, in \u001b[0;36mBaseShuffleSplit.split\u001b[0;34m(self, X, y, groups)\u001b[0m\n\u001b[1;32m   1716\u001b[0m \u001b[38;5;250m\u001b[39m\u001b[38;5;124;03m\"\"\"Generate indices to split data into training and test set.\u001b[39;00m\n\u001b[1;32m   1717\u001b[0m \n\u001b[1;32m   1718\u001b[0m \u001b[38;5;124;03mParameters\u001b[39;00m\n\u001b[0;32m   (...)\u001b[0m\n\u001b[1;32m   1743\u001b[0m \u001b[38;5;124;03mto an integer.\u001b[39;00m\n\u001b[1;32m   1744\u001b[0m \u001b[38;5;124;03m\"\"\"\u001b[39;00m\n\u001b[1;32m   1745\u001b[0m X, y, groups \u001b[38;5;241m=\u001b[39m indexable(X, y, groups)\n\u001b[0;32m-> 1746\u001b[0m \u001b[38;5;28;01mfor\u001b[39;00m train, test \u001b[38;5;129;01min\u001b[39;00m \u001b[38;5;28mself\u001b[39m\u001b[38;5;241m.\u001b[39m_iter_indices(X, y, groups):\n\u001b[1;32m   1747\u001b[0m     \u001b[38;5;28;01myield\u001b[39;00m train, test\n",
      "File \u001b[0;32m/anaconda/envs/azureml_py38/lib/python3.8/site-packages/sklearn/model_selection/_split.py:2147\u001b[0m, in \u001b[0;36mStratifiedShuffleSplit._iter_indices\u001b[0;34m(self, X, y, groups)\u001b[0m\n\u001b[1;32m   2145\u001b[0m class_counts \u001b[38;5;241m=\u001b[39m np\u001b[38;5;241m.\u001b[39mbincount(y_indices)\n\u001b[1;32m   2146\u001b[0m \u001b[38;5;28;01mif\u001b[39;00m np\u001b[38;5;241m.\u001b[39mmin(class_counts) \u001b[38;5;241m<\u001b[39m \u001b[38;5;241m2\u001b[39m:\n\u001b[0;32m-> 2147\u001b[0m     \u001b[38;5;28;01mraise\u001b[39;00m \u001b[38;5;167;01mValueError\u001b[39;00m(\n\u001b[1;32m   2148\u001b[0m         \u001b[38;5;124m\"\u001b[39m\u001b[38;5;124mThe least populated class in y has only 1\u001b[39m\u001b[38;5;124m\"\u001b[39m\n\u001b[1;32m   2149\u001b[0m         \u001b[38;5;124m\"\u001b[39m\u001b[38;5;124m member, which is too few. The minimum\u001b[39m\u001b[38;5;124m\"\u001b[39m\n\u001b[1;32m   2150\u001b[0m         \u001b[38;5;124m\"\u001b[39m\u001b[38;5;124m number of groups for any class cannot\u001b[39m\u001b[38;5;124m\"\u001b[39m\n\u001b[1;32m   2151\u001b[0m         \u001b[38;5;124m\"\u001b[39m\u001b[38;5;124m be less than 2.\u001b[39m\u001b[38;5;124m\"\u001b[39m\n\u001b[1;32m   2152\u001b[0m     )\n\u001b[1;32m   2154\u001b[0m \u001b[38;5;28;01mif\u001b[39;00m n_train \u001b[38;5;241m<\u001b[39m n_classes:\n\u001b[1;32m   2155\u001b[0m     \u001b[38;5;28;01mraise\u001b[39;00m \u001b[38;5;167;01mValueError\u001b[39;00m(\n\u001b[1;32m   2156\u001b[0m         \u001b[38;5;124m\"\u001b[39m\u001b[38;5;124mThe train_size = \u001b[39m\u001b[38;5;132;01m%d\u001b[39;00m\u001b[38;5;124m should be greater or \u001b[39m\u001b[38;5;124m\"\u001b[39m\n\u001b[1;32m   2157\u001b[0m         \u001b[38;5;124m\"\u001b[39m\u001b[38;5;124mequal to the number of classes = \u001b[39m\u001b[38;5;132;01m%d\u001b[39;00m\u001b[38;5;124m\"\u001b[39m \u001b[38;5;241m%\u001b[39m (n_train, n_classes)\n\u001b[1;32m   2158\u001b[0m     )\n",
      "\u001b[0;31mValueError\u001b[0m: The least populated class in y has only 1 member, which is too few. The minimum number of groups for any class cannot be less than 2."
     ]
    }
   ],
   "source": [
    "X = data_class.loc[:, data_class.columns != 'emissions']\n",
    "y = data_class[['emissions']]\n",
    "X_train, X_test, y_train, y_test = train_test_split(\n",
    "    X.values.astype('float64'),\n",
    "    y.values.astype('float64'),\n",
    "    train_size = .7,\n",
    "    test_size = .3,\n",
    "    random_state = 2,\n",
    "    shuffle = True,\n",
    "\tstratify=y\n",
    ")\n",
    "y_train = y_train.reshape(len(y_train),)\n",
    "y_test = y_test.reshape(len(y_test),)"
   ]
  },
  {
   "cell_type": "code",
   "execution_count": 24,
   "metadata": {},
   "outputs": [
    {
     "name": "stdout",
     "output_type": "stream",
     "text": [
      "> > > > > > > > > > > > > > > > > > > > > > > > > > > > > > > > > > > > > > > > > > \n",
      "\n",
      "CLASSIFIER          ACCURACY         PRECISION            RECALL          F1_SCORE\n",
      "\n",
      "> > > > > > > > > > > > > > > > > > > > > > > > > > > > > > > > > > > > > > > > > > \n",
      "\n",
      "SVR                     0.90              0.33              0.90              0.32\n",
      "\n",
      "DECISION TREE           0.90              0.33              0.30              0.32\n",
      "\n",
      "RANDOM FOREST           0.88              0.33              0.31              0.32\n",
      "\n",
      "ADABOOST                0.74              0.67              0.72              0.60\n"
     ]
    }
   ],
   "source": [
    "print(''.join(['> ' for i in range(42)]))\n",
    "print(f'\\n{\"CLASSIFIER\":<20}{\"ACCURACY\":>8}{\"PRECISION\":>18}{\"RECALL\":>18}{\"F1_SCORE\":>18}\\n')\n",
    "print(''.join(['> ' for i in range(42)]))\n",
    "warnings.filterwarnings('ignore')\n",
    "model = SVC()\n",
    "model.fit(X_train, y_train)\n",
    "pred = model.predict(X_test)\n",
    "acc = accuracy_score(pred, y_test)\n",
    "prec = precision_score(pred, y_test, average='macro')\n",
    "rec = recall_score(pred, y_test, average='macro', labels=np.unique(pred))\n",
    "f1 = f1_score(pred, y_test, average='macro')\n",
    "print(f'\\n{\"SVR\":<20}{acc:>8.2f}{prec:>18.2f}{rec:>18.2f}{f1:>18.2f}')\n",
    "\n",
    "model = DecisionTreeClassifier(max_depth=5, random_state=3)\n",
    "model.fit(X_train, y_train)\n",
    "pred = model.predict(X_test)\n",
    "acc = accuracy_score(pred, y_test)\n",
    "prec = precision_score(pred, y_test, average='macro')\n",
    "rec = recall_score(pred, y_test, average='macro')\n",
    "f1 = f1_score(pred, y_test, average='macro')\n",
    "print(f'\\n{\"DECISION TREE\":<20}{acc:>8.2f}{prec:>18.2f}{rec:>18.2f}{f1:>18.2f}')\n",
    "\n",
    "model = RandomForestClassifier(n_estimators=50, max_depth=5, random_state=3)\n",
    "model.fit(X_train, y_train)\n",
    "pred = model.predict(X_test)\n",
    "acc = accuracy_score(pred, y_test)\n",
    "prec = precision_score(pred, y_test, average='macro')\n",
    "rec = recall_score(pred, y_test, average='macro')\n",
    "f1 = f1_score(pred, y_test, average='macro')\n",
    "print(f'\\n{\"RANDOM FOREST\":<20}{acc:>8.2f}{prec:>18.2f}{rec:>18.2f}{f1:>18.2f}')\n",
    "\n",
    "model = AdaBoostClassifier(n_estimators=20, random_state=3)\n",
    "model.fit(X_train, y_train)\n",
    "pred = model.predict(X_test)\n",
    "acc = accuracy_score(pred, y_test)\n",
    "prec = precision_score(pred, y_test, average='macro')\n",
    "rec = recall_score(pred, y_test, average='macro')\n",
    "f1 = f1_score(pred, y_test, average='macro')\n",
    "print(f'\\n{\"ADABOOST\":<20}{acc:>8.2f}{prec:>18.2f}{rec:>18.2f}{f1:>18.2f}')"
   ]
  }
 ],
 "metadata": {
  "kernelspec": {
   "display_name": "recsost_env",
   "language": "python",
   "name": "python3"
  },
  "language_info": {
   "codemirror_mode": {
    "name": "ipython",
    "version": 3
   },
   "file_extension": ".py",
   "mimetype": "text/x-python",
   "name": "python",
   "nbconvert_exporter": "python",
   "pygments_lexer": "ipython3",
   "version": "3.8.10"
  }
 },
 "nbformat": 4,
 "nbformat_minor": 2
}
